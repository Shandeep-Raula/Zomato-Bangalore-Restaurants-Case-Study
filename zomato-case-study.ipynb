{
 "cells": [
  {
   "cell_type": "code",
   "execution_count": 1,
   "id": "a0f635fb",
   "metadata": {
    "_cell_guid": "b1076dfc-b9ad-4769-8c92-a6c4dae69d19",
    "_uuid": "8f2839f25d086af736a60e9eeb907d3b93b6e0e5",
    "execution": {
     "iopub.execute_input": "2024-12-05T13:18:56.586655Z",
     "iopub.status.busy": "2024-12-05T13:18:56.585786Z",
     "iopub.status.idle": "2024-12-05T13:18:57.406481Z",
     "shell.execute_reply": "2024-12-05T13:18:57.405433Z"
    },
    "papermill": {
     "duration": 0.834274,
     "end_time": "2024-12-05T13:18:57.408923",
     "exception": false,
     "start_time": "2024-12-05T13:18:56.574649",
     "status": "completed"
    },
    "tags": []
   },
   "outputs": [],
   "source": [
    "import numpy as np # linear algebra\n",
    "import pandas as pd # data processing, CSV file I/O (e.g. pd.read_csv)\n"
   ]
  },
  {
   "cell_type": "code",
   "execution_count": 2,
   "id": "9de240d9",
   "metadata": {
    "execution": {
     "iopub.execute_input": "2024-12-05T13:18:57.429498Z",
     "iopub.status.busy": "2024-12-05T13:18:57.428976Z",
     "iopub.status.idle": "2024-12-05T13:19:10.090128Z",
     "shell.execute_reply": "2024-12-05T13:19:10.089091Z"
    },
    "papermill": {
     "duration": 12.673418,
     "end_time": "2024-12-05T13:19:10.092540",
     "exception": false,
     "start_time": "2024-12-05T13:18:57.419122",
     "status": "completed"
    },
    "tags": []
   },
   "outputs": [],
   "source": [
    "df = pd.read_csv('/kaggle/input/zomato-eda/zomato.csv')"
   ]
  },
  {
   "cell_type": "code",
   "execution_count": 3,
   "id": "94e45f6d",
   "metadata": {
    "execution": {
     "iopub.execute_input": "2024-12-05T13:19:10.112306Z",
     "iopub.status.busy": "2024-12-05T13:19:10.111180Z",
     "iopub.status.idle": "2024-12-05T13:19:10.118913Z",
     "shell.execute_reply": "2024-12-05T13:19:10.117872Z"
    },
    "papermill": {
     "duration": 0.019708,
     "end_time": "2024-12-05T13:19:10.121094",
     "exception": false,
     "start_time": "2024-12-05T13:19:10.101386",
     "status": "completed"
    },
    "tags": []
   },
   "outputs": [
    {
     "data": {
      "text/plain": [
       "(51717, 17)"
      ]
     },
     "execution_count": 3,
     "metadata": {},
     "output_type": "execute_result"
    }
   ],
   "source": [
    "df.shape"
   ]
  },
  {
   "cell_type": "code",
   "execution_count": 4,
   "id": "eacea081",
   "metadata": {
    "execution": {
     "iopub.execute_input": "2024-12-05T13:19:10.140696Z",
     "iopub.status.busy": "2024-12-05T13:19:10.139913Z",
     "iopub.status.idle": "2024-12-05T13:19:10.165356Z",
     "shell.execute_reply": "2024-12-05T13:19:10.164306Z"
    },
    "papermill": {
     "duration": 0.03773,
     "end_time": "2024-12-05T13:19:10.167719",
     "exception": false,
     "start_time": "2024-12-05T13:19:10.129989",
     "status": "completed"
    },
    "tags": []
   },
   "outputs": [
    {
     "data": {
      "text/html": [
       "<div>\n",
       "<style scoped>\n",
       "    .dataframe tbody tr th:only-of-type {\n",
       "        vertical-align: middle;\n",
       "    }\n",
       "\n",
       "    .dataframe tbody tr th {\n",
       "        vertical-align: top;\n",
       "    }\n",
       "\n",
       "    .dataframe thead th {\n",
       "        text-align: right;\n",
       "    }\n",
       "</style>\n",
       "<table border=\"1\" class=\"dataframe\">\n",
       "  <thead>\n",
       "    <tr style=\"text-align: right;\">\n",
       "      <th></th>\n",
       "      <th>url</th>\n",
       "      <th>address</th>\n",
       "      <th>name</th>\n",
       "      <th>online_order</th>\n",
       "      <th>book_table</th>\n",
       "      <th>rate</th>\n",
       "      <th>votes</th>\n",
       "      <th>phone</th>\n",
       "      <th>location</th>\n",
       "      <th>rest_type</th>\n",
       "      <th>dish_liked</th>\n",
       "      <th>cuisines</th>\n",
       "      <th>approx_cost(for two people)</th>\n",
       "      <th>reviews_list</th>\n",
       "      <th>menu_item</th>\n",
       "      <th>listed_in(type)</th>\n",
       "      <th>listed_in(city)</th>\n",
       "    </tr>\n",
       "  </thead>\n",
       "  <tbody>\n",
       "    <tr>\n",
       "      <th>0</th>\n",
       "      <td>https://www.zomato.com/bangalore/jalsa-banasha...</td>\n",
       "      <td>942, 21st Main Road, 2nd Stage, Banashankari, ...</td>\n",
       "      <td>Jalsa</td>\n",
       "      <td>Yes</td>\n",
       "      <td>Yes</td>\n",
       "      <td>4.1/5</td>\n",
       "      <td>775</td>\n",
       "      <td>080 42297555\\r\\n+91 9743772233</td>\n",
       "      <td>Banashankari</td>\n",
       "      <td>Casual Dining</td>\n",
       "      <td>Pasta, Lunch Buffet, Masala Papad, Paneer Laja...</td>\n",
       "      <td>North Indian, Mughlai, Chinese</td>\n",
       "      <td>800</td>\n",
       "      <td>[('Rated 4.0', 'RATED\\n  A beautiful place to ...</td>\n",
       "      <td>[]</td>\n",
       "      <td>Buffet</td>\n",
       "      <td>Banashankari</td>\n",
       "    </tr>\n",
       "    <tr>\n",
       "      <th>1</th>\n",
       "      <td>https://www.zomato.com/bangalore/spice-elephan...</td>\n",
       "      <td>2nd Floor, 80 Feet Road, Near Big Bazaar, 6th ...</td>\n",
       "      <td>Spice Elephant</td>\n",
       "      <td>Yes</td>\n",
       "      <td>No</td>\n",
       "      <td>4.1/5</td>\n",
       "      <td>787</td>\n",
       "      <td>080 41714161</td>\n",
       "      <td>Banashankari</td>\n",
       "      <td>Casual Dining</td>\n",
       "      <td>Momos, Lunch Buffet, Chocolate Nirvana, Thai G...</td>\n",
       "      <td>Chinese, North Indian, Thai</td>\n",
       "      <td>800</td>\n",
       "      <td>[('Rated 4.0', 'RATED\\n  Had been here for din...</td>\n",
       "      <td>[]</td>\n",
       "      <td>Buffet</td>\n",
       "      <td>Banashankari</td>\n",
       "    </tr>\n",
       "    <tr>\n",
       "      <th>2</th>\n",
       "      <td>https://www.zomato.com/SanchurroBangalore?cont...</td>\n",
       "      <td>1112, Next to KIMS Medical College, 17th Cross...</td>\n",
       "      <td>San Churro Cafe</td>\n",
       "      <td>Yes</td>\n",
       "      <td>No</td>\n",
       "      <td>3.8/5</td>\n",
       "      <td>918</td>\n",
       "      <td>+91 9663487993</td>\n",
       "      <td>Banashankari</td>\n",
       "      <td>Cafe, Casual Dining</td>\n",
       "      <td>Churros, Cannelloni, Minestrone Soup, Hot Choc...</td>\n",
       "      <td>Cafe, Mexican, Italian</td>\n",
       "      <td>800</td>\n",
       "      <td>[('Rated 3.0', \"RATED\\n  Ambience is not that ...</td>\n",
       "      <td>[]</td>\n",
       "      <td>Buffet</td>\n",
       "      <td>Banashankari</td>\n",
       "    </tr>\n",
       "    <tr>\n",
       "      <th>3</th>\n",
       "      <td>https://www.zomato.com/bangalore/addhuri-udupi...</td>\n",
       "      <td>1st Floor, Annakuteera, 3rd Stage, Banashankar...</td>\n",
       "      <td>Addhuri Udupi Bhojana</td>\n",
       "      <td>No</td>\n",
       "      <td>No</td>\n",
       "      <td>3.7/5</td>\n",
       "      <td>88</td>\n",
       "      <td>+91 9620009302</td>\n",
       "      <td>Banashankari</td>\n",
       "      <td>Quick Bites</td>\n",
       "      <td>Masala Dosa</td>\n",
       "      <td>South Indian, North Indian</td>\n",
       "      <td>300</td>\n",
       "      <td>[('Rated 4.0', \"RATED\\n  Great food and proper...</td>\n",
       "      <td>[]</td>\n",
       "      <td>Buffet</td>\n",
       "      <td>Banashankari</td>\n",
       "    </tr>\n",
       "    <tr>\n",
       "      <th>4</th>\n",
       "      <td>https://www.zomato.com/bangalore/grand-village...</td>\n",
       "      <td>10, 3rd Floor, Lakshmi Associates, Gandhi Baza...</td>\n",
       "      <td>Grand Village</td>\n",
       "      <td>No</td>\n",
       "      <td>No</td>\n",
       "      <td>3.8/5</td>\n",
       "      <td>166</td>\n",
       "      <td>+91 8026612447\\r\\n+91 9901210005</td>\n",
       "      <td>Basavanagudi</td>\n",
       "      <td>Casual Dining</td>\n",
       "      <td>Panipuri, Gol Gappe</td>\n",
       "      <td>North Indian, Rajasthani</td>\n",
       "      <td>600</td>\n",
       "      <td>[('Rated 4.0', 'RATED\\n  Very good restaurant ...</td>\n",
       "      <td>[]</td>\n",
       "      <td>Buffet</td>\n",
       "      <td>Banashankari</td>\n",
       "    </tr>\n",
       "  </tbody>\n",
       "</table>\n",
       "</div>"
      ],
      "text/plain": [
       "                                                 url  \\\n",
       "0  https://www.zomato.com/bangalore/jalsa-banasha...   \n",
       "1  https://www.zomato.com/bangalore/spice-elephan...   \n",
       "2  https://www.zomato.com/SanchurroBangalore?cont...   \n",
       "3  https://www.zomato.com/bangalore/addhuri-udupi...   \n",
       "4  https://www.zomato.com/bangalore/grand-village...   \n",
       "\n",
       "                                             address                   name  \\\n",
       "0  942, 21st Main Road, 2nd Stage, Banashankari, ...                  Jalsa   \n",
       "1  2nd Floor, 80 Feet Road, Near Big Bazaar, 6th ...         Spice Elephant   \n",
       "2  1112, Next to KIMS Medical College, 17th Cross...        San Churro Cafe   \n",
       "3  1st Floor, Annakuteera, 3rd Stage, Banashankar...  Addhuri Udupi Bhojana   \n",
       "4  10, 3rd Floor, Lakshmi Associates, Gandhi Baza...          Grand Village   \n",
       "\n",
       "  online_order book_table   rate  votes                             phone  \\\n",
       "0          Yes        Yes  4.1/5    775    080 42297555\\r\\n+91 9743772233   \n",
       "1          Yes         No  4.1/5    787                      080 41714161   \n",
       "2          Yes         No  3.8/5    918                    +91 9663487993   \n",
       "3           No         No  3.7/5     88                    +91 9620009302   \n",
       "4           No         No  3.8/5    166  +91 8026612447\\r\\n+91 9901210005   \n",
       "\n",
       "       location            rest_type  \\\n",
       "0  Banashankari        Casual Dining   \n",
       "1  Banashankari        Casual Dining   \n",
       "2  Banashankari  Cafe, Casual Dining   \n",
       "3  Banashankari          Quick Bites   \n",
       "4  Basavanagudi        Casual Dining   \n",
       "\n",
       "                                          dish_liked  \\\n",
       "0  Pasta, Lunch Buffet, Masala Papad, Paneer Laja...   \n",
       "1  Momos, Lunch Buffet, Chocolate Nirvana, Thai G...   \n",
       "2  Churros, Cannelloni, Minestrone Soup, Hot Choc...   \n",
       "3                                        Masala Dosa   \n",
       "4                                Panipuri, Gol Gappe   \n",
       "\n",
       "                         cuisines approx_cost(for two people)  \\\n",
       "0  North Indian, Mughlai, Chinese                         800   \n",
       "1     Chinese, North Indian, Thai                         800   \n",
       "2          Cafe, Mexican, Italian                         800   \n",
       "3      South Indian, North Indian                         300   \n",
       "4        North Indian, Rajasthani                         600   \n",
       "\n",
       "                                        reviews_list menu_item  \\\n",
       "0  [('Rated 4.0', 'RATED\\n  A beautiful place to ...        []   \n",
       "1  [('Rated 4.0', 'RATED\\n  Had been here for din...        []   \n",
       "2  [('Rated 3.0', \"RATED\\n  Ambience is not that ...        []   \n",
       "3  [('Rated 4.0', \"RATED\\n  Great food and proper...        []   \n",
       "4  [('Rated 4.0', 'RATED\\n  Very good restaurant ...        []   \n",
       "\n",
       "  listed_in(type) listed_in(city)  \n",
       "0          Buffet    Banashankari  \n",
       "1          Buffet    Banashankari  \n",
       "2          Buffet    Banashankari  \n",
       "3          Buffet    Banashankari  \n",
       "4          Buffet    Banashankari  "
      ]
     },
     "execution_count": 4,
     "metadata": {},
     "output_type": "execute_result"
    }
   ],
   "source": [
    "df.head(5)"
   ]
  },
  {
   "cell_type": "code",
   "execution_count": 5,
   "id": "d2fc3a69",
   "metadata": {
    "execution": {
     "iopub.execute_input": "2024-12-05T13:19:10.188154Z",
     "iopub.status.busy": "2024-12-05T13:19:10.187755Z",
     "iopub.status.idle": "2024-12-05T13:19:10.195957Z",
     "shell.execute_reply": "2024-12-05T13:19:10.194737Z"
    },
    "papermill": {
     "duration": 0.020745,
     "end_time": "2024-12-05T13:19:10.198093",
     "exception": false,
     "start_time": "2024-12-05T13:19:10.177348",
     "status": "completed"
    },
    "tags": []
   },
   "outputs": [
    {
     "data": {
      "text/plain": [
       "url                            object\n",
       "address                        object\n",
       "name                           object\n",
       "online_order                   object\n",
       "book_table                     object\n",
       "rate                           object\n",
       "votes                           int64\n",
       "phone                          object\n",
       "location                       object\n",
       "rest_type                      object\n",
       "dish_liked                     object\n",
       "cuisines                       object\n",
       "approx_cost(for two people)    object\n",
       "reviews_list                   object\n",
       "menu_item                      object\n",
       "listed_in(type)                object\n",
       "listed_in(city)                object\n",
       "dtype: object"
      ]
     },
     "execution_count": 5,
     "metadata": {},
     "output_type": "execute_result"
    }
   ],
   "source": [
    "df.dtypes"
   ]
  },
  {
   "cell_type": "code",
   "execution_count": 6,
   "id": "e15d7e77",
   "metadata": {
    "execution": {
     "iopub.execute_input": "2024-12-05T13:19:10.219224Z",
     "iopub.status.busy": "2024-12-05T13:19:10.218842Z",
     "iopub.status.idle": "2024-12-05T13:19:10.226521Z",
     "shell.execute_reply": "2024-12-05T13:19:10.225421Z"
    },
    "papermill": {
     "duration": 0.020638,
     "end_time": "2024-12-05T13:19:10.228583",
     "exception": false,
     "start_time": "2024-12-05T13:19:10.207945",
     "status": "completed"
    },
    "tags": []
   },
   "outputs": [
    {
     "data": {
      "text/plain": [
       "Index(['url', 'address', 'name', 'online_order', 'book_table', 'rate', 'votes',\n",
       "       'phone', 'location', 'rest_type', 'dish_liked', 'cuisines',\n",
       "       'approx_cost(for two people)', 'reviews_list', 'menu_item',\n",
       "       'listed_in(type)', 'listed_in(city)'],\n",
       "      dtype='object')"
      ]
     },
     "execution_count": 6,
     "metadata": {},
     "output_type": "execute_result"
    }
   ],
   "source": [
    "df.columns"
   ]
  },
  {
   "cell_type": "code",
   "execution_count": 7,
   "id": "b30df030",
   "metadata": {
    "execution": {
     "iopub.execute_input": "2024-12-05T13:19:10.248783Z",
     "iopub.status.busy": "2024-12-05T13:19:10.248398Z",
     "iopub.status.idle": "2024-12-05T13:19:12.322016Z",
     "shell.execute_reply": "2024-12-05T13:19:12.320477Z"
    },
    "papermill": {
     "duration": 2.086435,
     "end_time": "2024-12-05T13:19:12.324311",
     "exception": false,
     "start_time": "2024-12-05T13:19:10.237876",
     "status": "completed"
    },
    "tags": []
   },
   "outputs": [
    {
     "name": "stdout",
     "output_type": "stream",
     "text": [
      "Columns : url\n",
      "Unique Categories : 51717\n",
      " \n",
      "Columns : address\n",
      "Unique Categories : 11495\n",
      " \n",
      "Columns : name\n",
      "Unique Categories : 8792\n",
      " \n",
      "Columns : online_order\n",
      "Unique Categories : 2\n",
      " \n",
      "Columns : book_table\n",
      "Unique Categories : 2\n",
      " \n",
      "Columns : rate\n",
      "Unique Categories : 64\n",
      " \n",
      "Columns : phone\n",
      "Unique Categories : 14926\n",
      " \n",
      "Columns : location\n",
      "Unique Categories : 93\n",
      " \n",
      "Columns : rest_type\n",
      "Unique Categories : 93\n",
      " \n",
      "Columns : dish_liked\n",
      "Unique Categories : 5271\n",
      " \n",
      "Columns : cuisines\n",
      "Unique Categories : 2723\n",
      " \n",
      "Columns : approx_cost(for two people)\n",
      "Unique Categories : 70\n",
      " \n",
      "Columns : reviews_list\n",
      "Unique Categories : 22513\n",
      " \n",
      "Columns : menu_item\n",
      "Unique Categories : 9098\n",
      " \n",
      "Columns : listed_in(type)\n",
      "Unique Categories : 7\n",
      " \n",
      "Columns : listed_in(city)\n",
      "Unique Categories : 30\n",
      " \n"
     ]
    }
   ],
   "source": [
    "for col in df.select_dtypes(include='object').columns:\n",
    "    print(\"Columns :\",col)\n",
    "    print(\"Unique Categories :\",df[col].nunique())\n",
    "    print(\" \")"
   ]
  },
  {
   "cell_type": "code",
   "execution_count": 8,
   "id": "eedae2b8",
   "metadata": {
    "execution": {
     "iopub.execute_input": "2024-12-05T13:19:12.352477Z",
     "iopub.status.busy": "2024-12-05T13:19:12.351232Z",
     "iopub.status.idle": "2024-12-05T13:19:12.433866Z",
     "shell.execute_reply": "2024-12-05T13:19:12.432758Z"
    },
    "papermill": {
     "duration": 0.102239,
     "end_time": "2024-12-05T13:19:12.436805",
     "exception": false,
     "start_time": "2024-12-05T13:19:12.334566",
     "status": "completed"
    },
    "tags": []
   },
   "outputs": [
    {
     "name": "stdout",
     "output_type": "stream",
     "text": [
      "Shape before dropping the row : (51717, 17)\n",
      "Shape after dropping the row : (43942, 17)\n"
     ]
    },
    {
     "data": {
      "text/plain": [
       "url                                0\n",
       "address                            0\n",
       "name                               0\n",
       "online_order                       0\n",
       "book_table                         0\n",
       "rate                               0\n",
       "votes                              0\n",
       "phone                            832\n",
       "location                           0\n",
       "rest_type                        151\n",
       "dish_liked                     20333\n",
       "cuisines                          11\n",
       "approx_cost(for two people)      252\n",
       "reviews_list                       0\n",
       "menu_item                          0\n",
       "listed_in(type)                    0\n",
       "listed_in(city)                    0\n",
       "dtype: int64"
      ]
     },
     "execution_count": 8,
     "metadata": {},
     "output_type": "execute_result"
    }
   ],
   "source": [
    "print(\"Shape before dropping the row :\",df.shape)\n",
    "df.dropna(subset=['rate'],inplace=True)\n",
    "print(\"Shape after dropping the row :\",df.shape)\n",
    "df.isnull().sum()"
   ]
  },
  {
   "cell_type": "code",
   "execution_count": 9,
   "id": "85c2d382",
   "metadata": {
    "execution": {
     "iopub.execute_input": "2024-12-05T13:19:12.474728Z",
     "iopub.status.busy": "2024-12-05T13:19:12.474265Z",
     "iopub.status.idle": "2024-12-05T13:19:12.576352Z",
     "shell.execute_reply": "2024-12-05T13:19:12.575151Z"
    },
    "papermill": {
     "duration": 0.12385,
     "end_time": "2024-12-05T13:19:12.578918",
     "exception": false,
     "start_time": "2024-12-05T13:19:12.455068",
     "status": "completed"
    },
    "tags": []
   },
   "outputs": [],
   "source": [
    "df['rate'] = df['rate'].replace(['NEW','-'],np.nan)\n",
    "df['rate'] = df['rate'].str.extract('(\\d+\\.\\d+)')\n",
    "df['rate'] = pd.to_numeric(df['rate'], errors='coerce')"
   ]
  },
  {
   "cell_type": "code",
   "execution_count": 10,
   "id": "f3133d7e",
   "metadata": {
    "execution": {
     "iopub.execute_input": "2024-12-05T13:19:12.600396Z",
     "iopub.status.busy": "2024-12-05T13:19:12.599977Z",
     "iopub.status.idle": "2024-12-05T13:19:12.607962Z",
     "shell.execute_reply": "2024-12-05T13:19:12.607010Z"
    },
    "papermill": {
     "duration": 0.021927,
     "end_time": "2024-12-05T13:19:12.610806",
     "exception": false,
     "start_time": "2024-12-05T13:19:12.588879",
     "status": "completed"
    },
    "tags": []
   },
   "outputs": [
    {
     "data": {
      "text/plain": [
       "2277"
      ]
     },
     "execution_count": 10,
     "metadata": {},
     "output_type": "execute_result"
    }
   ],
   "source": [
    "df['rate'].isna().sum()"
   ]
  },
  {
   "cell_type": "code",
   "execution_count": 11,
   "id": "b57c25c2",
   "metadata": {
    "execution": {
     "iopub.execute_input": "2024-12-05T13:19:12.637836Z",
     "iopub.status.busy": "2024-12-05T13:19:12.637462Z",
     "iopub.status.idle": "2024-12-05T13:19:12.660579Z",
     "shell.execute_reply": "2024-12-05T13:19:12.659385Z"
    },
    "papermill": {
     "duration": 0.036491,
     "end_time": "2024-12-05T13:19:12.663014",
     "exception": false,
     "start_time": "2024-12-05T13:19:12.626523",
     "status": "completed"
    },
    "tags": []
   },
   "outputs": [],
   "source": [
    "df.dropna(subset=['rate'] ,inplace = True)"
   ]
  },
  {
   "cell_type": "code",
   "execution_count": 12,
   "id": "081d0d80",
   "metadata": {
    "execution": {
     "iopub.execute_input": "2024-12-05T13:19:12.683756Z",
     "iopub.status.busy": "2024-12-05T13:19:12.683390Z",
     "iopub.status.idle": "2024-12-05T13:19:12.691566Z",
     "shell.execute_reply": "2024-12-05T13:19:12.690401Z"
    },
    "papermill": {
     "duration": 0.021774,
     "end_time": "2024-12-05T13:19:12.694437",
     "exception": false,
     "start_time": "2024-12-05T13:19:12.672663",
     "status": "completed"
    },
    "tags": []
   },
   "outputs": [
    {
     "data": {
      "text/plain": [
       "0"
      ]
     },
     "execution_count": 12,
     "metadata": {},
     "output_type": "execute_result"
    }
   ],
   "source": [
    "df['rate'].isna().sum()"
   ]
  },
  {
   "cell_type": "code",
   "execution_count": 13,
   "id": "d0bb3901",
   "metadata": {
    "execution": {
     "iopub.execute_input": "2024-12-05T13:19:12.727678Z",
     "iopub.status.busy": "2024-12-05T13:19:12.727149Z",
     "iopub.status.idle": "2024-12-05T13:19:12.736963Z",
     "shell.execute_reply": "2024-12-05T13:19:12.735827Z"
    },
    "papermill": {
     "duration": 0.029515,
     "end_time": "2024-12-05T13:19:12.739397",
     "exception": false,
     "start_time": "2024-12-05T13:19:12.709882",
     "status": "completed"
    },
    "tags": []
   },
   "outputs": [
    {
     "data": {
      "text/plain": [
       "array([4.1, 3.8, 3.7, 3.6, 4.6, 4. , 4.2, 3.9, 3.1, 3. , 3.2, 3.3, 2.8,\n",
       "       4.4, 4.3, 2.9, 3.5, 2.6, 3.4, 4.5, 2.5, 2.7, 4.7, 2.4, 2.2, 2.3,\n",
       "       4.8, 4.9, 2.1, 2. , 1.8])"
      ]
     },
     "execution_count": 13,
     "metadata": {},
     "output_type": "execute_result"
    }
   ],
   "source": [
    "df['rate'].unique()"
   ]
  },
  {
   "cell_type": "code",
   "execution_count": 14,
   "id": "cdbec7f8",
   "metadata": {
    "execution": {
     "iopub.execute_input": "2024-12-05T13:19:12.760879Z",
     "iopub.status.busy": "2024-12-05T13:19:12.760525Z",
     "iopub.status.idle": "2024-12-05T13:19:12.767187Z",
     "shell.execute_reply": "2024-12-05T13:19:12.766104Z"
    },
    "papermill": {
     "duration": 0.019973,
     "end_time": "2024-12-05T13:19:12.769466",
     "exception": false,
     "start_time": "2024-12-05T13:19:12.749493",
     "status": "completed"
    },
    "tags": []
   },
   "outputs": [
    {
     "data": {
      "text/plain": [
       "dtype('float64')"
      ]
     },
     "execution_count": 14,
     "metadata": {},
     "output_type": "execute_result"
    }
   ],
   "source": [
    "df['rate'].dtype"
   ]
  },
  {
   "cell_type": "code",
   "execution_count": 15,
   "id": "15ab8daf",
   "metadata": {
    "execution": {
     "iopub.execute_input": "2024-12-05T13:19:12.797839Z",
     "iopub.status.busy": "2024-12-05T13:19:12.796965Z",
     "iopub.status.idle": "2024-12-05T13:19:12.840206Z",
     "shell.execute_reply": "2024-12-05T13:19:12.839283Z"
    },
    "papermill": {
     "duration": 0.060383,
     "end_time": "2024-12-05T13:19:12.842528",
     "exception": false,
     "start_time": "2024-12-05T13:19:12.782145",
     "status": "completed"
    },
    "tags": []
   },
   "outputs": [],
   "source": [
    "df = df.rename(columns = {'approx_cost(for two people)' : 'cost'})"
   ]
  },
  {
   "cell_type": "code",
   "execution_count": 16,
   "id": "c0e4df04",
   "metadata": {
    "execution": {
     "iopub.execute_input": "2024-12-05T13:19:12.864802Z",
     "iopub.status.busy": "2024-12-05T13:19:12.863811Z",
     "iopub.status.idle": "2024-12-05T13:19:12.874593Z",
     "shell.execute_reply": "2024-12-05T13:19:12.873472Z"
    },
    "papermill": {
     "duration": 0.024209,
     "end_time": "2024-12-05T13:19:12.876730",
     "exception": false,
     "start_time": "2024-12-05T13:19:12.852521",
     "status": "completed"
    },
    "tags": []
   },
   "outputs": [
    {
     "data": {
      "text/plain": [
       "array(['800', '300', '600', '700', '550', '500', '450', '650', '400',\n",
       "       '900', '200', '750', '150', '850', '100', '1,200', '350', '250',\n",
       "       '950', '1,000', '1,500', '1,300', '199', '1,100', '1,600', '230',\n",
       "       '130', '1,700', '1,350', '2,200', '1,400', '2,000', '1,800', nan,\n",
       "       '1,900', '180', '330', '2,500', '2,100', '3,000', '2,800', '3,400',\n",
       "       '50', '40', '1,250', '3,500', '4,000', '2,400', '2,600', '1,450',\n",
       "       '70', '3,200', '240', '6,000', '1,050', '2,300', '4,100', '120',\n",
       "       '5,000', '3,700', '1,650', '2,700', '4,500', '80'], dtype=object)"
      ]
     },
     "execution_count": 16,
     "metadata": {},
     "output_type": "execute_result"
    }
   ],
   "source": [
    "df['cost'].unique()"
   ]
  },
  {
   "cell_type": "code",
   "execution_count": 17,
   "id": "e2e2083c",
   "metadata": {
    "execution": {
     "iopub.execute_input": "2024-12-05T13:19:12.898667Z",
     "iopub.status.busy": "2024-12-05T13:19:12.898306Z",
     "iopub.status.idle": "2024-12-05T13:19:12.945905Z",
     "shell.execute_reply": "2024-12-05T13:19:12.944889Z"
    },
    "papermill": {
     "duration": 0.061127,
     "end_time": "2024-12-05T13:19:12.948251",
     "exception": false,
     "start_time": "2024-12-05T13:19:12.887124",
     "status": "completed"
    },
    "tags": []
   },
   "outputs": [
    {
     "data": {
      "text/plain": [
       "0"
      ]
     },
     "execution_count": 17,
     "metadata": {},
     "output_type": "execute_result"
    }
   ],
   "source": [
    "df['cost'] = df['cost'].replace(\",\",\"\", regex = True).astype(float)\n",
    "df['cost'] = df['cost'].fillna(df['cost'].median())\n",
    "df['cost'].isna().sum()"
   ]
  },
  {
   "cell_type": "markdown",
   "id": "eb653c65",
   "metadata": {
    "papermill": {
     "duration": 0.009811,
     "end_time": "2024-12-05T13:19:12.968247",
     "exception": false,
     "start_time": "2024-12-05T13:19:12.958436",
     "status": "completed"
    },
    "tags": []
   },
   "source": [
    "### Feature Engineering"
   ]
  },
  {
   "cell_type": "code",
   "execution_count": 18,
   "id": "829825e8",
   "metadata": {
    "execution": {
     "iopub.execute_input": "2024-12-05T13:19:12.989824Z",
     "iopub.status.busy": "2024-12-05T13:19:12.989446Z",
     "iopub.status.idle": "2024-12-05T13:19:13.001381Z",
     "shell.execute_reply": "2024-12-05T13:19:13.000372Z"
    },
    "papermill": {
     "duration": 0.025737,
     "end_time": "2024-12-05T13:19:13.004010",
     "exception": false,
     "start_time": "2024-12-05T13:19:12.978273",
     "status": "completed"
    },
    "tags": []
   },
   "outputs": [
    {
     "name": "stdout",
     "output_type": "stream",
     "text": [
      "Unique listed places : 30\n"
     ]
    },
    {
     "data": {
      "text/plain": [
       "array(['Banashankari', 'Bannerghatta Road', 'Basavanagudi', 'Bellandur',\n",
       "       'Brigade Road', 'Brookefield', 'BTM', 'Church Street',\n",
       "       'Electronic City', 'Frazer Town', 'HSR', 'Indiranagar',\n",
       "       'Jayanagar', 'JP Nagar', 'Kalyan Nagar', 'Kammanahalli',\n",
       "       'Koramangala 4th Block', 'Koramangala 5th Block',\n",
       "       'Koramangala 6th Block', 'Koramangala 7th Block', 'Lavelle Road',\n",
       "       'Malleshwaram', 'Marathahalli', 'MG Road', 'New BEL Road',\n",
       "       'Old Airport Road', 'Rajajinagar', 'Residency Road',\n",
       "       'Sarjapur Road', 'Whitefield'], dtype=object)"
      ]
     },
     "execution_count": 18,
     "metadata": {},
     "output_type": "execute_result"
    }
   ],
   "source": [
    "print(\"Unique listed places :\", df['listed_in(city)'].nunique())\n",
    "df['listed_in(city)'].unique()"
   ]
  },
  {
   "cell_type": "code",
   "execution_count": 19,
   "id": "7d388456",
   "metadata": {
    "execution": {
     "iopub.execute_input": "2024-12-05T13:19:13.032066Z",
     "iopub.status.busy": "2024-12-05T13:19:13.031546Z",
     "iopub.status.idle": "2024-12-05T13:19:13.062482Z",
     "shell.execute_reply": "2024-12-05T13:19:13.061298Z"
    },
    "papermill": {
     "duration": 0.045106,
     "end_time": "2024-12-05T13:19:13.064821",
     "exception": false,
     "start_time": "2024-12-05T13:19:13.019715",
     "status": "completed"
    },
    "tags": []
   },
   "outputs": [
    {
     "data": {
      "text/plain": [
       "listed_in(city)\n",
       "South      19391\n",
       "East       10442\n",
       "Central     7357\n",
       "West        1825\n",
       "North       1578\n",
       "Name: count, dtype: int64"
      ]
     },
     "execution_count": 19,
     "metadata": {},
     "output_type": "execute_result"
    }
   ],
   "source": [
    "location_counts_to_region = {\n",
    "    'Banashankari': 'South',\n",
    "    'Bannerghatta Road': 'South',\n",
    "    'Basavanagudi ': 'South',\n",
    "    'Bellandur': 'East',\n",
    "    'Brigade Road': 'Central',\n",
    "    'Brookefield': 'East',\n",
    "    'BTM': 'South',\n",
    "    'Church Street': 'Central',\n",
    "    'Electronic City': 'South',\n",
    "    'Frazer Town': 'East',\n",
    "    'HSR': 'South',\n",
    "    'Indiranagar': 'East',\n",
    "    'Jayanagar': 'South',\n",
    "    'JP Nagar': 'South',\n",
    "    'Kalyan Nagar': 'North',\n",
    "    'Kammanahalli': 'East',\n",
    "    'Koramangala 4th Block': 'South',\n",
    "    'Koramangala 5th Block': 'South', \n",
    "    'Koramangala 6th Block': 'South',\n",
    "    'Koramangala 7th Block': 'South',\n",
    "    'Lavelle Road': 'Central',\n",
    "    'Malleshwaram': 'West',\n",
    "    'Marathahalli': 'East',\n",
    "    'MG Road': 'Central',\n",
    "    'New BEL Road': 'North',\n",
    "    'Old Airport Road': 'East', \n",
    "    'Rajajinagar': 'West',\n",
    "    'Residency Road': 'Central', \n",
    "    'Sarjapur Road': 'East',\n",
    "    'Whitefield': 'East'\n",
    "}\n",
    "\n",
    "df['listed_in(city)'] = df['listed_in(city)'].map(location_counts_to_region)\n",
    "df['listed_in(city)'].value_counts()"
   ]
  },
  {
   "cell_type": "code",
   "execution_count": 20,
   "id": "88335a3e",
   "metadata": {
    "execution": {
     "iopub.execute_input": "2024-12-05T13:19:13.088972Z",
     "iopub.status.busy": "2024-12-05T13:19:13.088476Z",
     "iopub.status.idle": "2024-12-05T13:19:13.108147Z",
     "shell.execute_reply": "2024-12-05T13:19:13.106959Z"
    },
    "papermill": {
     "duration": 0.034814,
     "end_time": "2024-12-05T13:19:13.110229",
     "exception": false,
     "start_time": "2024-12-05T13:19:13.075415",
     "status": "completed"
    },
    "tags": []
   },
   "outputs": [
    {
     "name": "stdout",
     "output_type": "stream",
     "text": [
      "Unique delivery locations : 92\n"
     ]
    },
    {
     "data": {
      "text/plain": [
       "location\n",
       "BTM                      3930\n",
       "Koramangala 5th Block    2319\n",
       "HSR                      2019\n",
       "Indiranagar              1847\n",
       "JP Nagar                 1717\n",
       "                         ... \n",
       "Yelahanka                   5\n",
       "West Bangalore              3\n",
       "Rajarajeshwari Nagar        2\n",
       "Nagarbhavi                  1\n",
       "Peenya                      1\n",
       "Name: count, Length: 92, dtype: int64"
      ]
     },
     "execution_count": 20,
     "metadata": {},
     "output_type": "execute_result"
    }
   ],
   "source": [
    "print(\"Unique delivery locations :\", df['location'].nunique())\n",
    "df['location'].value_counts()"
   ]
  },
  {
   "cell_type": "code",
   "execution_count": 21,
   "id": "4219de5d",
   "metadata": {
    "execution": {
     "iopub.execute_input": "2024-12-05T13:19:13.133158Z",
     "iopub.status.busy": "2024-12-05T13:19:13.132658Z",
     "iopub.status.idle": "2024-12-05T13:19:13.144200Z",
     "shell.execute_reply": "2024-12-05T13:19:13.143092Z"
    },
    "papermill": {
     "duration": 0.02552,
     "end_time": "2024-12-05T13:19:13.146400",
     "exception": false,
     "start_time": "2024-12-05T13:19:13.120880",
     "status": "completed"
    },
    "tags": []
   },
   "outputs": [
    {
     "data": {
      "text/plain": [
       "array(['Banashankari', 'Basavanagudi', 'Mysore Road', 'Jayanagar',\n",
       "       'Kumaraswamy Layout', 'Rajarajeshwari Nagar', 'Vijay Nagar',\n",
       "       'Uttarahalli', 'JP Nagar', 'South Bangalore', 'City Market',\n",
       "       'Bannerghatta Road', 'BTM', 'Kanakapura Road', 'Bommanahalli',\n",
       "       'Electronic City', 'Sarjapur Road', 'Wilson Garden',\n",
       "       'Shanti Nagar', 'Koramangala 5th Block', 'Richmond Road', 'HSR',\n",
       "       'Koramangala 7th Block', 'Bellandur', 'Marathahalli', 'Whitefield',\n",
       "       'East Bangalore', 'Old Airport Road', 'Indiranagar',\n",
       "       'Koramangala 1st Block', 'Frazer Town', 'MG Road', 'Brigade Road',\n",
       "       'Lavelle Road', 'Church Street', 'Ulsoor', 'Residency Road',\n",
       "       'Shivajinagar', 'Infantry Road', 'St. Marks Road',\n",
       "       'Cunningham Road', 'Race Course Road', 'Commercial Street',\n",
       "       'Vasanth Nagar', 'Domlur', 'Koramangala 8th Block', 'Ejipura',\n",
       "       'Jeevan Bhima Nagar', 'Old Madras Road', 'Seshadripuram',\n",
       "       'Kammanahalli', 'Koramangala 6th Block', 'Majestic',\n",
       "       'Langford Town', 'Central Bangalore', 'Brookefield',\n",
       "       'ITPL Main Road, Whitefield', 'Varthur Main Road, Whitefield',\n",
       "       'Koramangala 2nd Block', 'Koramangala 3rd Block',\n",
       "       'Koramangala 4th Block', 'Koramangala', 'Hosur Road', 'RT Nagar',\n",
       "       'Banaswadi', 'North Bangalore', 'Nagawara', 'Hennur',\n",
       "       'Kalyan Nagar', 'HBR Layout', 'Rammurthy Nagar', 'Thippasandra',\n",
       "       'CV Raman Nagar', 'Kaggadasapura', 'Kengeri', 'Sankey Road',\n",
       "       'Malleshwaram', 'Sanjay Nagar', 'Sadashiv Nagar',\n",
       "       'Basaveshwara Nagar', 'Rajajinagar', 'Yeshwantpur', 'New BEL Road',\n",
       "       'West Bangalore', 'Magadi Road', 'Yelahanka', 'Sahakara Nagar',\n",
       "       'Jalahalli', 'Hebbal', 'Nagarbhavi', 'Peenya', 'KR Puram'],\n",
       "      dtype=object)"
      ]
     },
     "execution_count": 21,
     "metadata": {},
     "output_type": "execute_result"
    }
   ],
   "source": [
    "df['location'].unique()"
   ]
  },
  {
   "cell_type": "code",
   "execution_count": 22,
   "id": "632a000f",
   "metadata": {
    "execution": {
     "iopub.execute_input": "2024-12-05T13:19:13.170206Z",
     "iopub.status.busy": "2024-12-05T13:19:13.169131Z",
     "iopub.status.idle": "2024-12-05T13:19:13.199025Z",
     "shell.execute_reply": "2024-12-05T13:19:13.197935Z"
    },
    "papermill": {
     "duration": 0.044239,
     "end_time": "2024-12-05T13:19:13.201221",
     "exception": false,
     "start_time": "2024-12-05T13:19:13.156982",
     "status": "completed"
    },
    "tags": []
   },
   "outputs": [
    {
     "data": {
      "text/plain": [
       "location\n",
       "South      19351\n",
       "East       12032\n",
       "Central     6748\n",
       "West        1494\n",
       "North        695\n",
       "Name: count, dtype: int64"
      ]
     },
     "execution_count": 22,
     "metadata": {},
     "output_type": "execute_result"
    }
   ],
   "source": [
    "location = df['location'].value_counts().index\n",
    "\n",
    "location_counts_to_region = {\n",
    "    'Basavanagudi': 'South',\n",
    "    'Mysore Road': 'West',\n",
    "    'Jayanagar': 'South',\n",
    "    'Kumaraswamy Layout': 'South', \n",
    "    'Rajarajeshwari Nagar': 'South',\n",
    "    'Vijay Nagar': 'West',\n",
    "    'Uttarahalli': 'South',\n",
    "    'JP Nagar': 'South',\n",
    "    'South Bangalore': 'South',\n",
    "    'City Market': 'Central',\n",
    "    'Nagarbhavi': 'West',\n",
    "    'Bannerghatta Road': 'South',\n",
    "    'BTM': 'South',\n",
    "    'Kanakapura Road': 'South',\n",
    "    'Bommanahalli': 'South',\n",
    "    'CV Raman Nagar': 'East',\n",
    "    'Electronic City': 'South',\n",
    "    'HSR': 'South',\n",
    "    'Marathahalli': 'East',\n",
    "    'Sarjapur Road': 'East',\n",
    "    'Wilson Garden': 'South',\n",
    "    'Shanti Nagar': 'Central', \n",
    "    'Koramangala 5th Block': 'South',\n",
    "    'Koramangala 8th Block': 'South', \n",
    "    'Richmond Road': 'Central',\n",
    "    'Koramangala 7th Block': 'South',\n",
    "    'Jalahalli': 'West',\n",
    "    'Koramangala 4th Block': 'South',\n",
    "    'Bellandur': 'East',\n",
    "    'Whitefield': 'East', \n",
    "    'East Bangalore': 'East',\n",
    "    'Old Airport Road': 'East',\n",
    "    'Indiranagar': 'East',\n",
    "    'Koramangala 1st Block': 'South',\n",
    "    'Frazer Town': 'East',\n",
    "    'RT Nagar': 'North',\n",
    "    'MG Road': 'Central',\n",
    "    'Brigade Road': 'Central',\n",
    "    'Lavelle Road': 'Central',\n",
    "    'Church Street': 'Central',\n",
    "    'Ulsoor': 'East',\n",
    "    'Residency Road': 'Central',\n",
    "    'Shivajinagar': 'Central',\n",
    "    'Infantry Road': 'Central',\n",
    "    'St. Marks Road': 'Central',\n",
    "    'Cunningham Road': 'Central',\n",
    "    'Race Course Road': 'Central',\n",
    "    'Commercial Street': 'Central',\n",
    "    'Vasanth Nagar': 'Central',\n",
    "    'HBR Layout': 'East',\n",
    "    'Domlur': 'East',\n",
    "    'Ejipura': 'East',\n",
    "    'Jeevan Bhima Nagar': 'East', \n",
    "    'Old Madras Road': 'East',\n",
    "    'Malleshwaram': 'West',\n",
    "    'Seshadripuram': 'Central',\n",
    "    'Kammanahalli': 'East',\n",
    "    'Koramangala 6th Block': 'South',\n",
    "    'Majestic': 'Central',\n",
    "    'Langford Town': 'Central',\n",
    "    'ITPL Main Road, Whitefield': 'East',\n",
    "    'Varthur Main Road, Whitefield': 'East',\n",
    "    'KR Puram': 'East',\n",
    "    'Koramangala 2nd Block': 'South', \n",
    "    'Koramangala 3rd Block': 'South',\n",
    "    'Koramangala': 'South',\n",
    "    'Hosur Road': 'South', \n",
    "    'Rajajinagar': 'West', \n",
    "    'Banaswadi': 'East',\n",
    "    'North Bangalore': 'North',\n",
    "    'Nagawara': 'East', \n",
    "    'Hennur': 'East',\n",
    "    'Kalyan Nagar': 'East',\n",
    "    'New BEL Road': 'North',\n",
    "    'Jakkur': 'East',\n",
    "    'Rammurthy Nagar': 'East',\n",
    "    'Thippasandra': 'East',\n",
    "    'Kaggadasapura': 'East',\n",
    "    'Hebbal': 'North',\n",
    "    'Kengeri': 'West',\n",
    "    'Sankey Road': 'Central',\n",
    "    'Sadashiv Nagar': 'North',\n",
    "    'Basaveshwara Nagar': 'West',\n",
    "    'Yeshwantpur': 'West',\n",
    "    'West Bangalore': 'West',\n",
    "    'Magadi Road': 'West',\n",
    "    'Yelahanka': 'North',\n",
    "    'Sahakara Nagar': 'North',\n",
    "    'Peenya': 'West'\n",
    "}\n",
    "\n",
    "df['location'] = df['location'].map(location_counts_to_region)\n",
    "df['location'].value_counts()"
   ]
  },
  {
   "cell_type": "code",
   "execution_count": 23,
   "id": "28c6e068",
   "metadata": {
    "execution": {
     "iopub.execute_input": "2024-12-05T13:19:13.224077Z",
     "iopub.status.busy": "2024-12-05T13:19:13.223690Z",
     "iopub.status.idle": "2024-12-05T13:19:13.257530Z",
     "shell.execute_reply": "2024-12-05T13:19:13.256421Z"
    },
    "papermill": {
     "duration": 0.047751,
     "end_time": "2024-12-05T13:19:13.259737",
     "exception": false,
     "start_time": "2024-12-05T13:19:13.211986",
     "status": "completed"
    },
    "tags": []
   },
   "outputs": [
    {
     "data": {
      "text/html": [
       "<div>\n",
       "<style scoped>\n",
       "    .dataframe tbody tr th:only-of-type {\n",
       "        vertical-align: middle;\n",
       "    }\n",
       "\n",
       "    .dataframe tbody tr th {\n",
       "        vertical-align: top;\n",
       "    }\n",
       "\n",
       "    .dataframe thead th {\n",
       "        text-align: right;\n",
       "    }\n",
       "</style>\n",
       "<table border=\"1\" class=\"dataframe\">\n",
       "  <thead>\n",
       "    <tr style=\"text-align: right;\">\n",
       "      <th>listed_in(city)</th>\n",
       "      <th>Central</th>\n",
       "      <th>East</th>\n",
       "      <th>North</th>\n",
       "      <th>South</th>\n",
       "      <th>West</th>\n",
       "    </tr>\n",
       "    <tr>\n",
       "      <th>location</th>\n",
       "      <th></th>\n",
       "      <th></th>\n",
       "      <th></th>\n",
       "      <th></th>\n",
       "      <th></th>\n",
       "    </tr>\n",
       "  </thead>\n",
       "  <tbody>\n",
       "    <tr>\n",
       "      <th>Central</th>\n",
       "      <td>5876</td>\n",
       "      <td>531</td>\n",
       "      <td>0</td>\n",
       "      <td>66</td>\n",
       "      <td>226</td>\n",
       "    </tr>\n",
       "    <tr>\n",
       "      <th>East</th>\n",
       "      <td>1271</td>\n",
       "      <td>9142</td>\n",
       "      <td>993</td>\n",
       "      <td>620</td>\n",
       "      <td>6</td>\n",
       "    </tr>\n",
       "    <tr>\n",
       "      <th>North</th>\n",
       "      <td>3</td>\n",
       "      <td>32</td>\n",
       "      <td>481</td>\n",
       "      <td>0</td>\n",
       "      <td>179</td>\n",
       "    </tr>\n",
       "    <tr>\n",
       "      <th>South</th>\n",
       "      <td>194</td>\n",
       "      <td>187</td>\n",
       "      <td>1</td>\n",
       "      <td>18179</td>\n",
       "      <td>4</td>\n",
       "    </tr>\n",
       "    <tr>\n",
       "      <th>West</th>\n",
       "      <td>2</td>\n",
       "      <td>5</td>\n",
       "      <td>69</td>\n",
       "      <td>19</td>\n",
       "      <td>1398</td>\n",
       "    </tr>\n",
       "  </tbody>\n",
       "</table>\n",
       "</div>"
      ],
      "text/plain": [
       "listed_in(city)  Central  East  North  South  West\n",
       "location                                          \n",
       "Central             5876   531      0     66   226\n",
       "East                1271  9142    993    620     6\n",
       "North                  3    32    481      0   179\n",
       "South                194   187      1  18179     4\n",
       "West                   2     5     69     19  1398"
      ]
     },
     "execution_count": 23,
     "metadata": {},
     "output_type": "execute_result"
    }
   ],
   "source": [
    "pd.crosstab(df['location'],df['listed_in(city)'])"
   ]
  },
  {
   "cell_type": "code",
   "execution_count": 24,
   "id": "5e213421",
   "metadata": {
    "execution": {
     "iopub.execute_input": "2024-12-05T13:19:13.283594Z",
     "iopub.status.busy": "2024-12-05T13:19:13.283231Z",
     "iopub.status.idle": "2024-12-05T13:19:13.299703Z",
     "shell.execute_reply": "2024-12-05T13:19:13.298593Z"
    },
    "papermill": {
     "duration": 0.031118,
     "end_time": "2024-12-05T13:19:13.301862",
     "exception": false,
     "start_time": "2024-12-05T13:19:13.270744",
     "status": "completed"
    },
    "tags": []
   },
   "outputs": [
    {
     "data": {
      "text/plain": [
       "same_location\n",
       "1    35076\n",
       "0     6589\n",
       "Name: count, dtype: int64"
      ]
     },
     "execution_count": 24,
     "metadata": {},
     "output_type": "execute_result"
    }
   ],
   "source": [
    "df['same_location'] = (df['location'] == df['listed_in(city)']).astype(int)\n",
    "df['same_location'].value_counts()"
   ]
  },
  {
   "cell_type": "code",
   "execution_count": 25,
   "id": "f9eecb19",
   "metadata": {
    "execution": {
     "iopub.execute_input": "2024-12-05T13:19:13.325842Z",
     "iopub.status.busy": "2024-12-05T13:19:13.325483Z",
     "iopub.status.idle": "2024-12-05T13:19:14.570930Z",
     "shell.execute_reply": "2024-12-05T13:19:14.569922Z"
    },
    "papermill": {
     "duration": 1.259931,
     "end_time": "2024-12-05T13:19:14.573086",
     "exception": false,
     "start_time": "2024-12-05T13:19:13.313155",
     "status": "completed"
    },
    "tags": []
   },
   "outputs": [
    {
     "data": {
      "text/plain": [
       "dish_liked       5224\n",
       "reviews_list    21272\n",
       "menu_item        8271\n",
       "dtype: int64"
      ]
     },
     "execution_count": 25,
     "metadata": {},
     "output_type": "execute_result"
    }
   ],
   "source": [
    "df[['dish_liked','reviews_list','menu_item']].nunique()"
   ]
  },
  {
   "cell_type": "code",
   "execution_count": 26,
   "id": "e05a8d99",
   "metadata": {
    "execution": {
     "iopub.execute_input": "2024-12-05T13:19:14.596558Z",
     "iopub.status.busy": "2024-12-05T13:19:14.596189Z",
     "iopub.status.idle": "2024-12-05T13:19:14.610144Z",
     "shell.execute_reply": "2024-12-05T13:19:14.609114Z"
    },
    "papermill": {
     "duration": 0.028418,
     "end_time": "2024-12-05T13:19:14.612439",
     "exception": false,
     "start_time": "2024-12-05T13:19:14.584021",
     "status": "completed"
    },
    "tags": []
   },
   "outputs": [
    {
     "data": {
      "text/plain": [
       "dish_liked\n",
       "Biryani                                                                                                                 0.007672\n",
       "Friendly Staff                                                                                                          0.002898\n",
       "Waffles                                                                                                                 0.002856\n",
       "Chicken Biryani                                                                                                         0.002813\n",
       "Masala Dosa                                                                                                             0.002387\n",
       "                                                                                                                          ...   \n",
       "Banana Cake, Ginger Lemon Tea, Poha, Mango Shake, Masala Chai, Paneer Sandwich, Vada Pav                                0.000043\n",
       "Tea, Coffee, Kadala Curry, Chicken Dum Biryani, Shawarma, Ghee Rice, Chicken Kebab                                      0.000043\n",
       "Garlic Bread, Nachos, Pasta, Thin Crust Pizza, Hawaian Pizza, Manali Pizza                                              0.000043\n",
       "Chicken Cheese Sandwich, Cheese Sandwiches, Chocolate Sandwich, Chocolate Sandwiches, French Fries, Teriyaki Chicken    0.000043\n",
       "Healthy Breakfast, Caesar Salad, English Breakfast, Burgers, Enchiladas, Omelette, Egg Burger                           0.000043\n",
       "Name: proportion, Length: 5224, dtype: float64"
      ]
     },
     "execution_count": 26,
     "metadata": {},
     "output_type": "execute_result"
    }
   ],
   "source": [
    "df['dish_liked'].value_counts(normalize = True)"
   ]
  },
  {
   "cell_type": "code",
   "execution_count": 27,
   "id": "9fb76e01",
   "metadata": {
    "execution": {
     "iopub.execute_input": "2024-12-05T13:19:14.636879Z",
     "iopub.status.busy": "2024-12-05T13:19:14.636479Z",
     "iopub.status.idle": "2024-12-05T13:19:14.963311Z",
     "shell.execute_reply": "2024-12-05T13:19:14.962219Z"
    },
    "papermill": {
     "duration": 0.345364,
     "end_time": "2024-12-05T13:19:14.969622",
     "exception": false,
     "start_time": "2024-12-05T13:19:14.624258",
     "status": "completed"
    },
    "tags": []
   },
   "outputs": [
    {
     "data": {
      "text/plain": [
       "reviews_list\n",
       "[]                                                                                                                                                                                                                                                                                                                                                                                                                                                                                                                                                                                                                                                                                                                                                                                                                                                                                                                                                                                                                                                                                                                                                                                                                                                                                                                                                                                                                                                                                                                                                                                                                                                                                                                                                                                                                                                                                                                                                                                                                                                                                                                                                                                                                                                                                                                                                                                                                                                                                                                                                                                                                                                                                                                                                                                                                                                                                                                                                                                                                                                                                                                                                                                                                                                                                                                                                                                                                                                                                                                                                                                                                                                                                                                                                                                                                                                                                                                                                                                                                                                                                                                                                                                                                                                                                                                                                                                                                                                                                                                                                                                                                                                                                                                                                                                                                                                                                                                                                                                                                                                                                                                                                                                                                                                                                                                                                                                                                                                                                                                                                                                                                                                                                                                                                                                                                                                                                                                                                                                                                                                                                                                                                                                                                                                                                                                                                                                                                                                                                                                                                                                                                                                                                                                                                                                                                                                                                                                                                                                                                                                                                                                                                                                                                                                                                                                                                                                                                                                                                                                                                                                                                                                                                                                                                                                                                                                                                                                                                                                                                                                                                                                                                                                                                                                                                                                                                                                                                                                                                                                                                                                                                                                                                                                                                                                                                                                                                                                                                                                                                                                                                                                                                                                                                                                                                                                                                                                                                                                                                                                                                                                                                                                                                                                                                                                                                                                                                                                                                                                                                                                                                                                                                                                                                                                                                                                                                                                                                                                                                                                                                                                                                                                                                                                                                                                                                                                                                                                                                                                                                                                                                                                                                                                                                                                                                                                                                                                                                                                                                                                                                                                                                                                                                                                                                                                                                                                                                                                                                                                                                                                                                                                                                                                                                                                                                                                                                                                                                                                                                                                                                                                                                                             0.026905\n",
       "[('Rated 5.0', \"RATED\\n  This lobby cafe offers beverages alongside a wide delicious line up of desserts ranging from apple pies to pastries to Indian sweets. It's set up in a warm ambiance. We visited during the Christmas season and the cafe has a host of edible gingerbread houses and festively themed cakes. The staff is courteous and prompt. We loved the waffles and doughnuts.\\n\\nalthingsbeautiful.wordpress.com\")]                                                                                                                                                                                                                                                                                                                                                                                                                                                                                                                                                                                                                                                                                                                                                                                                                                                                                                                                                                                                                                                                                                                                                                                                                                                                                                                                                                                                                                                                                                                                                                                                                                                                                                                                                                                                                                                                                                                                                                                                                                                                                                                                                                                                                                                                                                                                                                                                                                                                                                                                                                                                                                                                                                                                                                                                                                                                                                                                                                                                                                                                                                                                                                                                                                                                                                                                                                                                                                                                                                                                                                                                                                                                                                                                                                                                                                                                                                                                                                                                                                                                                                                                                                                                                                                                                                                                                                                                                                                                                                                                                                                                                                                                                                                                                                                                                                                                                                                                                                                                                                                                                                                                                                                                                                                                                                                                                                                                                                                                                                                                                                                                                                                                                                                                                                                                                                                                                                                                                                                                                                                                                                                                                                                                                                                                                                                                                                                                                                                                                                                                                                                                                                                                                                                                                                                                                                                                                                                                                                                                                                                                                                                                                                                                                                                                                                                                                                                                                                                                                                                                                                                                                                                                                                                                                                                                                                                                                                                                                                                                                                                                                                                                                                                                                                                                                                                                                                                                                                                                                                                                                                                                                                                                                                                                                                                                                                                                                                                                                                                                                                                                                                                                                                                                                                                                                                                                                                                                                                                                                                                                                                                                                                                                                                                                                                                                                                                                                                                                                                                                                                                                                                                                                                                                                                                                                                                                                                                                                                                                                                                                                                                                                                                                                                                                                                                                                                                                                                                                                                                                                                                                                                                                                                                                                                                                                                                                                                                                                                                                                                                                                                                                                                                                                                                                                                                                                                                                                                                                                                                                                                                                                                                                                                                                            0.000504\n",
       "[('Rated 4.0', 'RATED\\n  Cilantro had been a descent experience. It had been a community gathering and that the ambience was quite of a descent standard. Lamb Crosstini, Chicken Shahi Korma, Mutton Biriyani (not of a typical South Indian minty taste) and caramel pudding, are few of the delicacies that one must try in there. The overall experience was good. Nice place for a friendly hangout or get together.'), ('Rated 4.0', 'RATED\\n  We took a pool side dinner package from cherishx. The setup is rely nice, considering the cost. The pool was neat and well maintained. The staff were attentive and courteous. The food was slightly a let down. The most of the items were decent, but nothing stood out. The pork chops were quite good, with the right mix of flavours. Some of the starters were lacking in salt. Same goes for the pasta. The cocktail was good and different. Overall decent food and good ambience.')]                                                                                                                                                                                                                                                                                                                                                                                                                                                                                                                                                                                                                                                                                                                                                                                                                                                                                                                                                                                                                                                                                                                                                                                                                                                                                                                                                                                                                                                                                                                                                                                                                                                                                                                                                                                                                                                                                                                                                                                                                                                                                                                                                                                                                                                                                                                                                                                                                                                                                                                                                                                                                                                                                                                                                                                                                                                                                                                                                                                                                                                                                                                                                                                                                                                                                                                                                                                                                                                                                                                                                                                                                                                                                                                                                                                                                                                                                                                                                                                                                                                                                                                                                                                                                                                                                                                                                                                                                                                                                                                                                                                                                                                                                                                                                                                                                                                                                                                                                                                                                                                                                                                                                                                                                                                                                                                                                                                                                                                                                                                                                                                                                                                                                                                                                                                                                                                                                                                                                                                                                                                                                                                                                                                                                                                                                                                                                                                                                                                                                                                                                                                                                                                                                                                                                                                                                                                                                                                                                                                                                                                                                                                                                                                                                                                                                                                                                                                                                                                                                                                                                                                                                                                                                                                                                                                                                                                                                                                                                                                                                                                                                                                                                                                                                                                                                                                                                                                                                                                                                                                                                                                                                                                                                                                                                                                                                                                                                                                                                                                                                                                                                                                                                                                                                                                                                                                                                                                                                                                                                                                                                                                                                                                                                                                                                                                                                                                                                                                                                                                                                                                                                                                                                                                                                                                                                                                                                                                                                                                                                                                                                                                                                                                                                                                                                                                                                                                                                                                                                                                                                                                                                                                                                                                                                                                                                                                                                                                                                                                                                                                                                                                                                                                                                             0.000480\n",
       "[('Rated 4.0', 'RATED\\n  In totally love with this place - cozy little laid back cafe in kormangala.. has indoor n outdoor sitting too.. they have good variety of keto menu - tried khow suey with prawns , very creamy texture with authentic taste and cheese cake was to die for . Cucumber Tuna boat is innovative dish.. Host explains n suggests menu really well.. will visit again soon'), ('Rated 3.0', 'RATED\\n  Fairly average place as we had quite high expectations before we walked in due to the hype this place has created for healthy food. We had their Watermelon and Feta Salad along with their Brownie both of which were quite disappointing.')]                                                                                                                                                                                                                                                                                                                                                                                                                                                                                                                                                                                                                                                                                                                                                                                                                                                                                                                                                                                                                                                                                                                                                                                                                                                                                                                                                                                                                                                                                                                                                                                                                                                                                                                                                                                                                                                                                                                                                                                                                                                                                                                                                                                                                                                                                                                                                                                                                                                                                                                                                                                                                                                                                                                                                                                                                                                                                                                                                                                                                                                                                                                                                                                                                                                                                                                                                                                                                                                                                                                                                                                                                                                                                                                                                                                                                                                                                                                                                                                                                                                                                                                                                                                                                                                                                                                                                                                                                                                                                                                                                                                                                                                                                                                                                                                                                                                                                                                                                                                                                                                                                                                                                                                                                                                                                                                                                                                                                                                                                                                                                                                                                                                                                                                                                                                                                                                                                                                                                                                                                                                                                                                                                                                                                                                                                                                                                                                                                                                                                                                                                                                                                                                                                                                                                                                                                                                                                                                                                                                                                                                                                                                                                                                                                                                                                                                                                                                                                                                                                                                                                                                                                                                                                                                                                                                                                                                                                                                                                                                                                                                                                                                                                                                                                                                                                                                                                                                                                                                                                                                                                                                                                                                                                                                                                                                                                                                                                                                                                                                                                                                                                                                                                                                                                                                                                                                                                                                                                                                                                                                                                                                                                                                                                                                                                                                                                                                                                                                                                                                                                                                                                                                                                                                                                                                                                                                                                                                                                                                                                                                                                                                                                                                                                                                                                                                                                                                                                                                                                                                                                                                                                                                                                                                                                                                                                                                                                                                                                                                                                                                                                                                                                                                                                                                                                                                                                                                                                                                                                                     0.000480\n",
       "[('Rated 3.0', 'RATED\\n  Went to have dessert.its amazing and pocket friendly plus nice and small cafe.being small it gives u the cozy environment.so do try if u r near around it.')]                                                                                                                                                                                                                                                                                                                                                                                                                                                                                                                                                                                                                                                                                                                                                                                                                                                                                                                                                                                                                                                                                                                                                                                                                                                                                                                                                                                                                                                                                                                                                                                                                                                                                                                                                                                                                                                                                                                                                                                                                                                                                                                                                                                                                                                                                                                                                                                                                                                                                                                                                                                                                                                                                                                                                                                                                                                                                                                                                                                                                                                                                                                                                                                                                                                                                                                                                                                                                                                                                                                                                                                                                                                                                                                                                                                                                                                                                                                                                                                                                                                                                                                                                                                                                                                                                                                                                                                                                                                                                                                                                                                                                                                                                                                                                                                                                                                                                                                                                                                                                                                                                                                                                                                                                                                                                                                                                                                                                                                                                                                                                                                                                                                                                                                                                                                                                                                                                                                                                                                                                                                                                                                                                                                                                                                                                                                                                                                                                                                                                                                                                                                                                                                                                                                                                                                                                                                                                                                                                                                                                                                                                                                                                                                                                                                                                                                                                                                                                                                                                                                                                                                                                                                                                                                                                                                                                                                                                                                                                                                                                                                                                                                                                                                                                                                                                                                                                                                                                                                                                                                                                                                                                                                                                                                                                                                                                                                                                                                                                                                                                                                                                                                                                                                                                                                                                                                                                                                                                                                                                                                                                                                                                                                                                                                                                                                                                                                                                                                                                                                                                                                                                                                                                                                                                                                                                                                                                                                                                                                                                                                                                                                                                                                                                                                                                                                                                                                                                                                                                                                                                                                                                                                                                                                                                                                                                                                                                                                                                                                                                                                                                                                                                                                                                                                                                                                                                                                                                                                                                                                                                                                                                                                                                                                                                                                                                                                                                                                                                                                         0.000456\n",
       "                                                                                                                                                                                                                                                                                                                                                                                                                                                                                                                                                                                                                                                                                                                                                                                                                                                                                                                                                                                                                                                                                                                                                                                                                                                                                                                                                                                                                                                                                                                                                                                                                                                                                                                                                                                                                                                                                                                                                                                                                                                                                                                                                                                                                                                                                                                                                                                                                                                                                                                                                                                                                                                                                                                                                                                                                                                                                                                                                                                                                                                                                                                                                                                                                                                                                                                                                                                                                                                                                                                                                                                                                                                                                                                                                                                                                                                                                                                                                                                                                                                                                                                                                                                                                                                                                                                                                                                                                                                                                                                                                                                                                                                                                                                                                                                                                                                                                                                                                                                                                                                                                                                                                                                                                                                                                                                                                                                                                                                                                                                                                                                                                                                                                                                                                                                                                                                                                                                                                                                                                                                                                                                                                                                                                                                                                                                                                                                                                                                                                                                                                                                                                                                                                                                                                                                                                                                                                                                                                                                                                                                                                                                                                                                                                                                                                                                                                                                                                                                                                                                                                                                                                                                                                                                                                                                                                                                                                                                                                                                                                                                                                                                                                                                                                                                                                                                                                                                                                                                                                                                                                                                                                                                                                                                                                                                                                                                                                                                                                                                                                                                                                                                                                                                                                                                                                                                                                                                                                                                                                                                                                                                                                                                                                                                                                                                                                                                                                                                                                                                                                                                                                                                                                                                                                                                                                                                                                                                                                                                                                                                                                                                                                                                                                                                                                                                                                                                                                                                                                                                                                                                                                                                                                                                                                                                                                                                                                                                                                                                                                                                                                                                                                                                                                                                                                                                                                                                                                                                                                                                                                                                                                                                                                                                                                                                                                                                                                                                                                                                                                                                                                                                                                                                 ...   \n",
       "[('Rated 5.0', 'RATED\\n  As I am a big fan of Burger, I was looking for perfect place to satisfy my taste, so i visited Wudfyr as i had read positive reviews. One of the finest Restaurant options in the city; i found Wudfyr is a perfect place as it serves wide variety of pizza, burgers, pasta etc with a delicious taste. The staff is generous, courteous and their manager is always at your help. As per his suggestion i decided to try the South Mafia Burger and i was happy with the decision. The Burger was delicious . A food with perfect mixture of taste and healthyness.\\nThe location and the interior was too impressive. And yes last but not the least its a pocket friendly too....\\n5 star for the food and wow for the Staff Service.'), ('Rated 5.0', 'RATED\\n  We went on a Tuesday evening .Not very much crowded .Nice sitting place .Every single item we ordered had great taste and presentation .Special mention to creamy cheese pasta ,Oreo surprise , Loaded nachos with cheesy sauce .Definitely worth visiting again if wanting to eat healthy food and snacks . 5 star for price and hygiene. 4.5 for food and service. Nice experience.'), ('Rated 5.0', 'RATED\\n  A (not so) hidden gem! Good ambience and wonderful food. While the menu is not exhaustive, what they serve is right up there in taste.\\nGreat burgers with buns dipped in vegetable juice to give them their colours (red, black, etc.).\\nWith the 25% discount offer they had going on, it was great value for money as well.')]                                                                                                                                                                                                                                                                                                                                                                                                                                                                                                                                                                                                                                                                                                                                                                                                                                                                                                                                                                                                                                                                                                                                                                                                                                                                                                                                                                                                                                                                                                                                                                                                                                                                                                                                                                                                                                                                                                                                                                                                                                                                                                                                                                                                                                                                                                                                                                                                                                                                                                                                                                                                                                                                                                                                                                                                                                                                                                                                                                                                                                                                                                                                                                                                                                                                                                                                                                                                                                                                                                                                                                                                                                                                                                                                                                                                                                                                                                                                                                                                                                                                                                                                                                                                                                                                                                                                                                                                                                                                                                                                                                                                                                                                                                                                                                                                                                                                                                                                                                                                                                                                                                                                                                                                                                                                                                                                                                                                                                                                                                                                                                                                                                                                                                                                                                                                                                                                                                                                                                                                                                                                                                                                                                                                                                                                                                                                                                                                                                                                                                                                                                                                                                                                                                                                                                                                                                                                                                                                                                                                                                                                                                                                                                                                                                                                                                                                                                                                                                                                                                                                                                                                                                                                                                                                                                                                                                                                                                                                                                                                                                                                                                                                                                                                                                                                                                                                                                                                                                                                                                                                                                                                                                                                                                                                                                                                                                                                                                                                                                                                                                                                                                                                                                                                                                                                                                                                                                                                                                                                                                                                                                                                                                                                                                                                                                                                                                                                                                                                                                                                                                                                                                                                                                                                                                                                                                                                                                                                                                                                                                                                                                                                                                                                                                                                                                                                                                                                                                                                                                                                                                                                                               0.000024\n",
       "[('Rated 5.0', 'RATED\\n  This place might look little deceiving at first from outside but the food is very flavourful and tasty. Absolutely loved it. Value for money.'), ('Rated 5.0', 'RATED\\n  A hotel in my neighbour with best food with very pocket friendly prices. 5 stars because of its prices and very friendly staff and great food which a win win for a foodie'), ('Rated 5.0', 'RATED\\n  This place is best for its tandoori dishes and paner dishes among which my favorite is kadai paneer with butter tandoori roti and kalmi kabab...'), ('Rated 5.0', 'RATED\\n  Visited this restaurant for third time till now and had a great time and experience here the staff were very well behaved and polite with great tasting Chinese food'), ('Rated 4.0', 'RATED\\n  awesome taste but last time when I order then chicken piece is very small'), ('Rated 5.0', 'RATED\\n  Good food at decent cost and you get chicken ? items which are good, spicy and tasty. My favorite dish here is chicken 65 boneless with chicken fried rice.'), ('Rated 1.0', 'RATED\\n  I ordered chicken manchurian they charged 130 rs and gave in small box with 5 small chicken piece and more of those chilly and onion ...I will never order from here again'), ('Rated 5.0', 'RATED\\n  Tandoori chicken was superbbb tasty &spicy also their other tandoori items was good with some fried rice and pock friendly good place to visit with family and friends'), ('Rated 5.0', 'RATED\\n  Ordered their spl item Tandoori chicken and Tandoori kabab was tasty and Tandoori chicken was spicy and tasty Good place to visit money friendly'), ('Rated 5.0', \"RATED\\n  Went to this restaurant at about 11:00 pm as I was late from work and they were by then closing but the manager was very good he gave us a table and also very Good service with delicious food in which the best was tandoori chicken and hot tandoor roti's served with dal fry was also very good.\"), ('Rated 5.0', 'RATED\\n  Nice taste and also at very affordable rates. Ambience is very good with the garden looks with plants potted and placed very well. decent crowd was also there as i visted on saturday. A must visit for families in and around btm layout'), ('Rated 3.0', 'RATED\\n  packing was worst for rice.\\nfood was almost open in the carry bag.'), ('Rated 5.0', 'RATED\\n  visited this place after 3 years as i shifted to indranagar but visited this this place again for a friends party and as always they gave delicious food and good service.i like chicken noodles and pepper chicken prepared here...'), ('Rated 5.0', 'RATED\\n  Ordered tandoori chicken half which was awasome..... roasted in fire with all spices mixed perfectly and also some kind of green chuteny also tasted good with it , my friends also liked it .'), ('Rated 4.0', 'RATED\\n  thanks you'), ('Rated 1.0', \"RATED\\n  it's very bad, they given like kabab but I ordered tandoori full\"), ('Rated 1.0', \"RATED\\n  we ordered gravy and instead of that we got starter...what the hell is this..very bad experience this was...we won't order from zomato next time and same will be with my frns also...I'll suggest not to go for zomato gng forward..hell done with this\"), ('Rated 5.0', 'RATED\\n  Great food with very good service and polite staff . Liked tandoori chicken and also lolypop chicken with Paneer chilly and also naans Maza aagaya'), ('Rated 1.0', 'RATED\\n  poor quality food . butter naan were completely broken . wastage of my money.'), ('Rated 5.0', 'RATED\\n  Food is good and as well as quantity ....A very good place to dine with family and friends . my favourite dish here is tandoori kabab and chicken fried rice'), ('Rated 1.0', 'RATED\\n  We have ordered a full tandoori but we received a half tandoori ,they have charged full amount so please look into the matter'), ('Rated 2.0', 'RATED\\n  Kulcha was like Naan. The worst kulcha I have ever eaten.'), ('Rated 5.0', 'RATED\\n  Just ordered their spl item TANDOORI CHICKEN which was awesome and tasty with spl salad & chutney enjoyed it very much must try other TANDOOR items also it is also good'), ('Rated 5.0', 'RATED\\n  Food is good and as well as quantity ....A very good place and also have cash less option like paytm and magic pin etc.....and also have parking place.'), ('Rated 5.0', 'RATED\\n  maza agaya......!!!!! tanoori kabab which i ordered was awasome which they served it with some kind of green pudina chutney and the hyderabadi chicken gravy was also good with the hot served kulchas'), ('Rated 5.0', 'RATED\\n  Great taste. We had a very deliciously prepared tandoori chicken with kadai paneer and butter naans and also happy for the fast home delivery here'), ('Rated 4.0', 'RATED\\n  This is very economical place as compared to the others. Food is good and at reasonable prices, not that much high. Interior is good and music was playing every time I visit there. Need to improve their service.'), ('Rated 5.0', 'RATED\\n  Very pocket friendly restaurant with a nice dinning area. Chicken hyderabadi with butter naan is awesome. Tried tandoori chicken also which was very delicious with the spl green chutney which they provide'), ('Rated 1.5', 'RATED\\n  Been there several times and earlier it used to be a good restaurant, but now they have degraded the quality.\\nThey call it Hyderabadi Chicken biryani and it has only red chilli flakes in the name of spices. Pathetic!'), ('Rated 4.5', 'RATED\\n  Visting this place after 5yrs as i had moved out to another city, nothing much have changed here the chkn roll which they wrap in rumali is the good here the best dishes here to be tried here are tandoor chkn,tandoori kabab,kalmi (rosted leg pcs) and some chinese dishes such as chilly chkn or chkn65 the gravy which i like here is chkn kadai .must vist if u stay near by as the have good taste with reasionable prices too.'), ('Rated 4.5', 'RATED\\n  I live near by so visited this restaurant many times. This restaurant is vary spacious with ample amount of space and their are about 10-12 tables which are placed with partition b/w them As their name they try to give the garden look inside with many pots place in the dinning area\\nTheir spl dishes in non veg are chicken kolapuri ,chilly chicken pepper chicken, tandoori kebab n gobi manchuri, mushroom pepper in veg'), ('Rated 5.0', 'RATED\\n  Visting this restaurant from past few years food here is good with good service n staff friendly\\nThis restaurant is best known for its tandoori dishes like tandoori chicken ? and tandoori kababs which are displayed outside the restaurant in their display window 5.0 bcoz of the tandoori chicken which i like the most'), ('Rated 5.0', 'RATED\\n  this restuarant is location @ prime location in btm layout jst opp to reliance fresh\\nthe ambience is decient n food tastes great here my fav dishes are tandoori chicken and chicken fried rice with sewzan and regularly go for it\\n5 bcoz of good food n good service'), ('Rated 1.0', 'RATED\\n  Extremely waste, tried three four times as it is near. Chicken pieces not properly stuffed for any of the recipes, as I have THROWN CHICKEN PIECES and veg items are also not good.'), ('Rated 3.0', \"RATED\\n  Long time back, I am speaking about 2007-8, it was a coveted destination for bachelors and shoe string budget fellas. Once in a fortnight, a tandoor chicken from here was a must. It was so spicy and delicious... But the quality has taken a hit, I would have easily rated this 4 considering that quality and price. At current quality its okeish restaurant. Price decent still. Its a nostalgic place to visit, being a place where we used to regularly head for our treats since 2000. Have seen the guy at counter grow up from a kid who used to sit with his father to a man who manages the counter.\\n\\nFood is ok. Queue has become lesser because of drop in quality and their head cook moved to Magix Roll( That's where I saw him last).,But yes the prompt service and student crowd, visiting it after so long was more of emotional pull.\"), ('Rated 2.0', 'RATED\\n  Food quality is good and price is reasonable. Ambience is OK OK type according to this range. Service is pathetic here. I ordered for one naan they have 2 butter naans. I asked chilly paneer without gravy. They have given with gravy. Though the food is good service is not.'), ('Rated 3.0', 'RATED\\n  The only thing I go to eat in Tandoor Garden is Chicken Roll. They wrap chicken in Rumali Roti which makes it different from all the other places. Delicious and very cheap too..'), ('Rated 3.0', 'RATED\\n  A very casual place but a spacious one. The food served here is ordinary, nothing special! Ambience is good. Food quality and quantity are both satisfactory. Basically a place for casual dinner or lunch. Few improvements can make wonders!'), ('Rated 3.0', 'RATED\\n  This was one of my go to place in BTM but with the improvements happening in the area like BTM this place has not improved a bit in last 5 years. Ambience is awful and so is the service but still there are a few things which make me visit this place, few of them are chicken roll served in rumali roti, special tandoori kabab, chilli chicken etc. Try them ;)'), ('Rated 3.0', 'RATED\\n  Tandoor Garden is one of the best place to have Mughal Style and Tandoori Dishes in BTM Layout. Well known for the bachelors who stays in this location.\\nMy first visit was based on one of my friends suggestion.\\nVeg Dishes are very less here compare non veg dishes but I find it decent enough with some starters and main course.\\nThis is a good pocket friendly restaurant compare to other restaurants in BTM.\\nDisadvantage is parking here, as the restaurant is located in Main Road.\\nService is really quick and friendly staff.\\nOverall:\\nQuality: 3/5\\nTaste: 3/5\\nService: 3/5\\nVFM: 3.5/5\\n\\nbangaloreepicure.com'), ('Rated 4.5', 'RATED\\n  I was waiting from many days to write some good about this place as I cannot remember how many Saturday or Sunday we have spent here with friend to have in the dinners. If you are a rich kid and you spend a lot for good food, decoration and service every time you go out in the week end then this is not your place but if you are looking for some good amount of food with not so bad test, service and in a very reasonable price then this is the place for you.\\n\\nThere are not more than 10 veg and 10 none veg curry they have in there menu which all tests same and which we all have tested. But place has less crowdie and you will not have to wait too long to get the food in the table. If you are really hungry after a week full of work and looking for a place where you can relax and have plate full of food, you should visit this place.'), ('Rated 1.0', 'RATED\\n  We tried Panner Butter Masala. It was sweet curry.\\n\\nI think its enough reason not to try the restaurant.'), ('Rated 4.5', 'RATED\\n  A good place to dine out with friends!!!! n one of the oldest resturant in btm'), ('Rated 4.0', 'RATED\\n  Good food at affordable price. Ambience needs some work.')]                                                                                                                                                                                                                                                                                                                                                                                                                                                                                                                                                                                                                                                                                                                                                                                                                                                                                                                                                                                                                                                                                                                                                                                                                                                                      0.000024\n",
       "[('Rated 5.0', \"RATED\\n  Nice quality, quantity, packing, taste, overall great service nd it's exactly like a home made food, I ordered sattu paratha nd it was yummy.\")]                                                                                                                                                                                                                                                                                                                                                                                                                                                                                                                                                                                                                                                                                                                                                                                                                                                                                                                                                                                                                                                                                                                                                                                                                                                                                                                                                                                                                                                                                                                                                                                                                                                                                                                                                                                                                                                                                                                                                                                                                                                                                                                                                                                                                                                                                                                                                                                                                                                                                                                                                                                                                                                                                                                                                                                                                                                                                                                                                                                                                                                                                                                                                                                                                                                                                                                                                                                                                                                                                                                                                                                                                                                                                                                                                                                                                                                                                                                                                                                                                                                                                                                                                                                                                                                                                                                                                                                                                                                                                                                                                                                                                                                                                                                                                                                                                                                                                                                                                                                                                                                                                                                                                                                                                                                                                                                                                                                                                                                                                                                                                                                                                                                                                                                                                                                                                                                                                                                                                                                                                                                                                                                                                                                                                                                                                                                                                                                                                                                                                                                                                                                                                                                                                                                                                                                                                                                                                                                                                                                                                                                                                                                                                                                                                                                                                                                                                                                                                                                                                                                                                                                                                                                                                                                                                                                                                                                                                                                                                                                                                                                                                                                                                                                                                                                                                                                                                                                                                                                                                                                                                                                                                                                                                                                                                                                                                                                                                                                                                                                                                                                                                                                                                                                                                                                                                                                                                                                                                                                                                                                                                                                                                                                                                                                                                                                                                                                                                                                                                                                                                                                                                                                                                                                                                                                                                                                                                                                                                                                                                                                                                                                                                                                                                                                                                                                                                                                                                                                                                                                                                                                                                                                                                                                                                                                                                                                                                                                                                                                                                                                                                                                                                                                                                                                                                                                                                                                                                                                                                                                                                                                                                                                                                                                                                                                                                                                                                                                                                                                                      0.000024\n",
       "[('Rated 3.0', 'RATED\\n  I have tried the chicken ghee roast and chicken biryani. Biryani was average and ghee roast chicken was hard and chewy. Overall an average place considering the food. Ambience is good and staff is pleasant.'), ('Rated 3.0', 'RATED\\n  The restaurant is having a great interior decor & ambience, however the waiter or the person assisting the guests often misunderstand the food type that is being ordered. For instance, as I ordered Biryani of a certain variant & asked not to give the green one, they gave the green one itself. But, the fries & Burgers are awesome!!'), ('Rated 4.0', 'RATED\\n  I would give this place a 3.75.I had visited this place and had a buffet and it was really good.The food tastes good,very friendly staff,quick service of breads and beverages and an ambient place,what else do you need for a perfect family lunch.The starters were very good especially the fish and squid even in the main course fish was the major highlight and even the appam dosa they give is also very good.The deserts are basic which has 4 flavours of ice cream.Overall a good experience on visiting this place.'), ('Rated 4.0', 'RATED\\n  First of all the concept inside this restaurant is awesome with some cool interiors.. The ambience is great.. I loved all the non veg and veg dishes ordered and they were super spicy.. Needs some improvement on speeding up orders..'), ('Rated 4.0', 'RATED\\n  This Mangalore based restaurant is an ultimate experience for any seafood enthusiast.\\nThis place serves a whole new range of seafood, mutton as well as lamb and crab preparations.\\nThe food is great and tastes good.\\nThere is a seafood festival going on, I would highly recommend any seafood lover to go and have an experience. The service I felt was a bit slow.\\nThe ambience is good.'), ('Rated 3.0', 'RATED\\n  Food is awesome..the place remains too crowded\\nService is too slow...confused staffs\\nso if u have to eat dinner u need to b thr during lunch time'), ('Rated 4.0', 'RATED\\n  Nice place for a good wholesome meal. I appreciate they accept special requests BUT I asked for no ghee, no butter, no milk in my veg curry to make it vegan, but unfortunately they donÃ\\x83Ã\\x83Ã\\x82Ã\\x82Ã\\x83Ã\\x82Ã\\x82Ã\\x92t understand vegan fully and added paneer. If they can learn how to properly cater to dietary restrictions this would be a big perk! The place is clean and generous portions.'), ('Rated 4.0', \"RATED\\n  It's one of best restaurant in jp nagar.i have been there couple of times . The decor is very good .Food has an authentic Kerala as well as Mangalore taste.panner ghee roast and chicken ghee roast is a must try.I have tried most of the dishes here and all of them were good.The prices here are also pocket friendly even if you go for buffet option\\n\\nThe only negative point they have us the service which is very very slow after ordering you have to wait atleast 30 min for the food to arrive.\"), ('Rated 3.0', 'RATED\\n  I would call it a average place for a buffet, taste was not upto the mark for the price we paid starters were serviced on the table making things slower than expected just got 2 veg starters and 2 non-veg starters and not a wide variety to be precise and after a long delay..\\n\\nThey had told us it will take 10 min for the buffet to be arranged not a problem could have kept up to the expectations with service and taste of the food..\\n\\nGave 3* for the ambiance and 10% discount that we got in the bill.. which couldnÃ\\x83Ã\\x83Ã\\x82Ã\\x82Ã\\x83Ã\\x82Ã\\x82Ã\\x92t justify a 5*..\\n\\nThanks for hosting us.. Hope to see you people again sometime, might have a better experience to write about.. :)'), ('Rated 4.0', ''), ('Rated 5.0', ''), ('Rated 4.0', ''), ('Rated 5.0', '')]                                                                                                                                                                                                                                                                                                                                                                                                                                                                                                                                                                                                                                                                                                                                                                                                                                                                                                                                                                                                                                                                                                                                                                                                                                                                                                                                                                                                                                                                                                                                                                                                                                                                                                                                                                                                                                                                                                                                                                                                                                                                                                                                                                                                                                                                                                                                                                                                                                                                                                                                                                                                                                                                                                                                                                                                                                                                                                                                                                                                                                                                                                                                                                                                                                                                                                                                                                                                                                                                                                                                                                                                                                                                                                                                                                                                                                                                                                                                                                                                                                                                                                                                                                                                                                                                                                                                                                                                                                                                                                                                                                                                                                                                                                                                                                                                                                                                                                                                                                                                                                                                                                                                                                                                                                                                                                                                                                                                                                                                                                                                                                                                                                                                                                                                                                                                                                                                                                                                                                                                                                                                                                                                                                                                                                                                                                                                                                                                                                                                                                                                                                                                                                                                                                                                                                                                                                                                                                                                                                                                                                                                                                                                                                                                                                                                                                                                                                                                                                                                                                                                                                                                                                                                                                                                                                                                                                                                                                                                                                                                                                                                                                                                                                                                                                                                                                                                                                                                                                                                                                                                                                                                                                                                                                                                                0.000024\n",
       "[('Rated 4.0', \"RATED\\n  I had :-\\n\\n1. Italian Tiramisu Shake\\n2. Grilled One's (Burgers) Chicken\\n\\nLoved both the items... The shake was really good... It whet my appetite for the burger which too was lovely and delectable...\\n\\nThe staff was pleasant and friendly...\"), ('Rated 3.0', \"RATED\\n  Oliver's is always the place where people working in ITPL go if they are in mood to chill post work.\\nThis place serves decent pizza and drinks\"), ('Rated 3.0', 'RATED\\n  I have been to this place couple of times now. Found it OK in terms of food, service, ambience, pricing and availability of drinks.\\nOn our 1st visit we were around 6people and had ordered chicken starters, beer, wine and pizza. However, the service was too slow. Even the bill was given to us almost after 20mins of asking the waiters.\\nDuring 2nd visit, we were 5 people. This visit was bit disappointing, as almost 80% of the drinks on menu which I wanted to have were not available. Ultimately i had to get a diet coke. Even the food menu is a traditional one. There is nothing different and the taste is average.\\nMy friend also tried flame shot here, which was a big disappointment as the waiters who made it seemed amateurs. He had struggled so much to drink that flame shot, as the flame was all over the table.'), ('Rated 3.0', \"RATED\\n  I'm pleasantly surprised when I happen to find new places to dine close to home.\\nWith this in mind I stopped by Oliver a while back. \\nOverlooking ITPL, the atmosphere here is well lit and lively especially if you happen to be here during live match screenings. \\nComing to the food I was a bit disappointed. \\nI ordered the buenos nachos and the chicken nachos pizza. \\nTalking about the nachos, they were basically made with cornitos chips. \\nThe crust of the pizza was dry and the toppings lacked seasoning. \\nThe drinks we ordered were just okayish.\\nOverall slightly disappointed.\"), ('Rated 3.0', 'RATED\\n  Ordered chilly pork, which was not really very spicy( also most of the pieces were pork fat only and not meat) . And the noodles was good but not that good. Kind of expected a little bit more from this place. Found it a bit overpriced for the quantity.'), ('Rated 3.0', \"RATED\\n  Good place to hang out and chill with your friends with good food and drinks. You would love their range of pizzas and their taste if you like thin crush pizzas - like the Mexican nachos one myself. Drinks are good too with offers - mainly people opt for Bira. Had sizzling Brownie in desserts and it was yum! Can improve more on overall crust and taste of the pizzas though - not that nice if you're going only for food. Ã\\x83Ã\\x83Ã\\x82Ã\\x83Ã\\x83Ã\\x82Ã\\x82ÃÂ¢Ã\\x83Ã\\x83Ã\\x82Ã\\x82Ã\\x83Ã\\x82Ã\\x82Ã\\x9cÃ\\x83Ã\\x83Ã\\x82Ã\\x82Ã\\x83Ã\\x82Ã\\x82Ã\\x8cÃ\\x83Ã\\x83Ã\\x82Ã\\x83Ã\\x83Ã\\x82Ã\\x82ÃÂ°Ã\\x83Ã\\x83Ã\\x82Ã\\x82Ã\\x83Ã\\x82Ã\\x82Ã\\x9fÃ\\x83Ã\\x83Ã\\x82Ã\\x82Ã\\x83Ã\\x82Ã\\x82Ã\\x8fÃ\\x83Ã\\x83Ã\\x82Ã\\x82Ã\\x83Ã\\x82Ã\\x82ÃÂ» #ThinCrustPizzas #Bira\"), ('Rated 3.0', \"RATED\\n  Visited during lunch hours.\\nThe nachos were pretty filling but just about above-average in taste.\\n\\nI would recommend the Gambas! Prawns were succelent and flavourful.\\n\\nThe service was also pretty quick. I'm not sure why the stools were a little worn out and the ambience was a little low and dim. Perhaps the aim was to give a rusty vibe but the tables and chairs seemed a little too old and rusted.\"), ('Rated 3.0', \"RATED\\n  It's one of the few places we found open past 9pm near ITPL, that serves cocktails. It's on the first floor of the shopping complex. This one cocktail called Hanky Panky was particularly good.\"), ('Rated 4.0', \"RATED\\n  Oliver's.. The place i love for pizzas... And hey.. If you want to just chill, have some beer along with your friends then this is the place for you.. I personally love their pizzas and the ambience.. Cheers..!!\"), ('Rated 4.0', \"RATED\\n  Oliver's have been a go to place after office as it is in ITPL itself. For drinks they don't keep much options available which is disappointing. Coming to food, food is really good. We tried chilly chicken, American corn and crispy babycorn for starters and had chilly paneer tikka and spinach paneer pizza. Taste and ambience is very much lively and dewy.\"), ('Rated 1.0', \"RATED\\n  This restaurant was a big disappointment. The list of unprofessionalism is quite big.\\nWe found a dead cockroach near the table. And when pointing it out the service guy was least bothered and asked some other guy to look into it.Then we shifted to a different table.\\nAnother downer was the unresponsive attitude of the staff. We literally had to get up from our seats to give order.\\nThe food was above par to it's service, which was a good thing. But when some one visits ur restaurant, they want to have the full dining experience. Otherwise food can be home delivered.\\nPlease work on ur cleanliness and service if u want to attract customers.\"), ('Rated 5.0', 'RATED\\n  A desi styled pub easy on pocket, still under construction. Has got combo offers throughout the week. The food is great to hangout on any day of the week. Should minimise the order delivery time.'), ('Rated 4.0', \"RATED\\n  Tasty food at not so high rates. The ambience and service was pretty good.\\n\\nWe had spring rolls and jalapeno poppers for starters. They didn't feel too oily and were delicious. Sauces served with them went pretty well with them.\\n\\nWe went for patata salsa pizza. Potato part tasted good. Though I would have liked better sauce.\\n\\nFor desserts, we went for brownie sundae and it was amazing. The quantity was generous as well.\"), ('Rated 3.0', \"RATED\\n  Not sure why it is rated so high on Zomato. When I go to any pub I expect atleast some good quality finger food and mocktails. Both were missing here. Service was way below par as the servers didn't even know what to recommend and what is house special etc. Pizza was OK.\\n\\nAmbience wise a good place to hang out with friends and make some noise. They did try to make it look like a sports bar with TV screens here and there. But failed miserably.\\n\\nOverall experience was well below par.\"), ('Rated 4.0', \"RATED\\n  Good place for stress busting.ambience is friendly.bug food quality is not upto the mark.beer also not available according to your choice.we asked Bira..they told it's not available right now (seriously?? Even on Saturday evening).Music was ok only..not a good music place.the only advantage I got is its in ITPL ,beside my office.\"), ('Rated 1.0', \"RATED\\n  This restaurant was a big disappointment. The list of unprofessionalism is quite big.\\nWe found a dead cockroach near the table. And when pointing it out the service guy was least bothered and asked some other guy to look into it.Then we shifted to a different table.\\nAnother downer was the unresponsive attitude of the staff. We literally had to get up from our seats to give order.\\nThe food was above par to it's service, which was a good thing. But when some one visits ur restaurant, they want to have the full dining experience. Otherwise food can be home delivered.\\nPlease work on ur cleanliness and service if u want to attract customers.\"), ('Rated 5.0', 'RATED\\n  A desi styled pub easy on pocket, still under construction. Has got combo offers throughout the week. The food is great to hangout on any day of the week. Should minimise the order delivery time.'), ('Rated 4.0', \"RATED\\n  Tasty food at not so high rates. The ambience and service was pretty good.\\n\\nWe had spring rolls and jalapeno poppers for starters. They didn't feel too oily and were delicious. Sauces served with them went pretty well with them.\\n\\nWe went for patata salsa pizza. Potato part tasted good. Though I would have liked better sauce.\\n\\nFor desserts, we went for brownie sundae and it was amazing. The quantity was generous as well.\"), ('Rated 3.0', \"RATED\\n  Not sure why it is rated so high on Zomato. When I go to any pub I expect atleast some good quality finger food and mocktails. Both were missing here. Service was way below par as the servers didn't even know what to recommend and what is house special etc. Pizza was OK.\\n\\nAmbience wise a good place to hang out with friends and make some noise. They did try to make it look like a sports bar with TV screens here and there. But failed miserably.\\n\\nOverall experience was well below par.\"), ('Rated 4.0', \"RATED\\n  Good place for stress busting.ambience is friendly.bug food quality is not upto the mark.beer also not available according to your choice.we asked Bira..they told it's not available right now (seriously?? Even on Saturday evening).Music was ok only..not a good music place.the only advantage I got is its in ITPL ,beside my office.\"), ('Rated 1.0', \"RATED\\n  This restaurant was a big disappointment. The list of unprofessionalism is quite big.\\nWe found a dead cockroach near the table. And when pointing it out the service guy was least bothered and asked some other guy to look into it.Then we shifted to a different table.\\nAnother downer was the unresponsive attitude of the staff. We literally had to get up from our seats to give order.\\nThe food was above par to it's service, which was a good thing. But when some one visits ur restaurant, they want to have the full dining experience. Otherwise food can be home delivered.\\nPlease work on ur cleanliness and service if u want to attract customers.\"), ('Rated 5.0', 'RATED\\n  A desi styled pub easy on pocket, still under construction. Has got combo offers throughout the week. The food is great to hangout on any day of the week. Should minimise the order delivery time.'), ('Rated 4.0', \"RATED\\n  Tasty food at not so high rates. The ambience and service was pretty good.\\n\\nWe had spring rolls and jalapeno poppers for starters. They didn't feel too oily and were delicious. Sauces served with them went pretty well with them.\\n\\nWe went for patata salsa pizza. Potato part tasted good. Though I would have liked better sauce.\\n\\nFor desserts, we went for brownie sundae and it was amazing. The quantity was generous as well.\"), ('Rated 3.0', \"RATED\\n  Not sure why it is rated so high on Zomato. When I go to any pub I expect atleast some good quality finger food and mocktails. Both were missing here. Service was way below par as the servers didn't even know what to recommend and what is house special etc. Pizza was OK.\\n\\nAmbience wise a good place to hang out with friends and make some noise. They did try to make it look like a sports bar with TV screens here and there. But failed miserably.\\n\\nOverall experience was well below par.\"), ('Rated 4.0', \"RATED\\n  Good place for stress busting.ambience is friendly.bug food quality is not upto the mark.beer also not available according to your choice.we asked Bira..they told it's not available right now (seriously?? Even on Saturday evening).Music was ok only..not a good music place.the only advantage I got is its in ITPL ,beside my office.\"), ('Rated 2.0', \"RATED\\n  Pathetic presentation of the dishes, the plate looks half empty. It's just cigarette smoke that u can breath.\\nDid not enjoy the food or ambience.\"), ('Rated 3.0', 'RATED\\n  Went there on a Friday eve. They were out of almost every good branded beers. Below average food, the place seems a little bit shady. Sitting chairs and tables are really rusty. Staffs not really pro active in serving you. They overcharged me, had to call them and get the amount back. So you get the picture.'), ('Rated 4.0', \"RATED\\n  Oliver's Pub is a decent place with a good ambience. Food was pretty good although we tried only vegetarian dishes. They had limited options for drinks and few of the listed drinks were not even available. I had the most amazing Chinese bhel over here. I tried two variants of pizzas there : Paneer peri peri and Margherita paneer spinach pizza, both of them were nicely made. Please do give a try to the spinach one. It was surprisingly delicious Ã\\x83Ã\\x83Ã\\x82Ã\\x83Ã\\x83Ã\\x82Ã\\x82ÃÂ°Ã\\x83Ã\\x83Ã\\x82Ã\\x82Ã\\x83Ã\\x82Ã\\x82Ã\\x9fÃ\\x83Ã\\x83Ã\\x82Ã\\x82Ã\\x83Ã\\x82Ã\\x82Ã\\x98Ã\\x83Ã\\x83Ã\\x82Ã\\x82Ã\\x83Ã\\x82Ã\\x82Ã\\x8b\")]    0.000024\n",
       "Name: proportion, Length: 21272, dtype: float64"
      ]
     },
     "execution_count": 27,
     "metadata": {},
     "output_type": "execute_result"
    }
   ],
   "source": [
    "df['reviews_list'].value_counts(normalize = True)"
   ]
  },
  {
   "cell_type": "code",
   "execution_count": 28,
   "id": "5d4d3c14",
   "metadata": {
    "execution": {
     "iopub.execute_input": "2024-12-05T13:19:14.997202Z",
     "iopub.status.busy": "2024-12-05T13:19:14.996753Z",
     "iopub.status.idle": "2024-12-05T13:19:15.029775Z",
     "shell.execute_reply": "2024-12-05T13:19:15.028737Z"
    },
    "papermill": {
     "duration": 0.050054,
     "end_time": "2024-12-05T13:19:15.032553",
     "exception": false,
     "start_time": "2024-12-05T13:19:14.982499",
     "status": "completed"
    },
    "tags": []
   },
   "outputs": [
    {
     "data": {
      "text/plain": [
       "menu_item\n",
       "[]                                                                                                                                                                                                                                                                                                                                                                                                                                                                                                                                                                                                                                                                                                                                                                                                                                                                                                                                                                                                                                                                                                                                                                                                                                                                                                                                                                                                                                                                                                                                                                                                                                                                                                                                                                                                                                                                                                                                                                                                                                                                                                                                                                                                                                                                                                                                                                                                                                                                                                                                                                                                                                                                                                                                                                                                                                                                                                                                                                                                                                                                                                                                                                                                                                                                                                                                                                                                                           0.736829\n",
       "['Butter Chicken Pizza', 'Bombay Veggie Burger', 'Tawa Paneer Burger', 'Oh So Cheesy Burger', 'Barbecue Chicken Burger', 'Peri Peri Chicken Burger', 'BBQ Lamb', 'Cheesy Chicken', 'Crunchy Ferrero', 'Lots of Nuts', 'Kadhai Paneer Pizza', 'Chilli Paneer and Mushroom Pizza', 'Chipotle Veggie Pizza', 'Creamy Cheese Pizza', 'Southern Veggie Korma Pizza', 'Popeye, The Corny Man Pizza', 'Paneer Tikka Pizza', 'Desi Margherita Pizza', 'Roasted Paneer with Mustard Pizza', 'Bangalore Express Pizza', 'Italian Chaska Pizza', 'Mayo and Cheese Pizza', 'Classic Margherita', 'Cajun Hawaiian Pizza', 'Butter Chicken Pizza', 'Lasooni Bhuna Murg Pizza', 'Chilly Chicken Pizza', 'Hot Garlic Chicken Pizza', 'Murg Barbecue Pizza', 'Mediterranean Mutton Keema Pizza', 'Super Green Burger', 'Quinoa Black Bean Burger', 'Bombay Veggie Burger', 'Tawa Paneer Burger', 'Oh So Cheesy Burger', 'Barbecue Chicken Burger', 'Chipotle Lamb Burger', 'Crumb Fried Fish Burger', 'Peri Peri Chicken Burger', 'BBQ Lamb', 'Cheesy Chicken', 'Picnic Chicken Burger', 'Korean Grilled Chicken with Kimchi', 'Kiddy Kat Strawberry', 'Kiddy Kat Chocolate', 'Bubblegum', 'Oreo Shake', 'Caramel Shake', 'Chocolate Shake', 'Strawberry Shake', 'Vanilla Shake', 'Cold Coffee', 'Virgin Mojito', 'Iced Tea', 'Hot Chocolate', 'Cappuccino', 'Latte', 'Espresso Shot', 'Brownie Shake', 'Red Velvet Cheesecake Shake', 'Oreo Cheesecake Shake', 'Salted Caramel Popcorn', 'Coconut Crumble', 'Coffee Crunch', 'Bira', 'Thanda Paan', 'Sticky Toffee Pudding', 'Blueberry Cheesecake', 'Nutella Cheesecake', 'Caramel Custard with Strawberry or Figs', 'Red Velvet Cheesecake', 'Tiramisu', 'Zesty Vanilla and Tipsy Brownie', 'Oreo Explosion', 'Chocolate Almond Crumble', 'Crunchy Ferrero', \"Stoner's Chocolate Decadence\", 'Brownie Bash', 'Chocolate Lava', 'Dark Chocolate Caramel', 'Chocolate Overload', 'Lots of Nuts', 'Peanut Butter Crunch', 'Nutty Fudgy', 'Lemon Pistachio Biscotti', 'Frutilicious Ice Cream', 'Strawberry Tease Ice Cream', 'Mango Tango Ice Cream', 'Lychee Lovers Ice Cream', 'Monkey Business Ice Cream', 'Apple Crumble Ice Cream', 'Blueberry Bliss Ice Cream']                                                                                                                                                                                                                                                                                                                                                                                                                                                                                                                                                                                                                                                                                                                                                                                                                                                                                                                                                                                                                                                                                                                                                                                                                         0.000264\n",
       "['Students Veg Combo', 'Office Veg Combo', 'Students Non Veg Combo', 'Office Non Veg Combo', 'Mughlai Non Veg Combo', 'Aloo Paratha Combo', 'Poori Aloo Jeera Combo', 'Poori Aloo Tomato Combo', 'Paneer Paratha Combo', 'Students Veg Combo', 'Office Veg Combo', 'Students Non Veg Combo', 'Office Non Veg Combo', 'Mughlai Non Veg Combo', 'Shami Kebab Roll', 'Mughlai Biryani Combo [Veg]', 'Nawabi Thali Combo', 'The Lajawab Gravy Combo [Veg]', 'Mughlai Meal For Two [Veg]', 'The After Party Starters', 'Royal Feast For Four [Veg]', 'The Galawati Roll', 'Mughlai Biryani Combo [Non Veg]', 'The Nihari Combo [Chicken]', 'The Nihari Combo (Mutton)', 'The Lajawab Gravy Combo [Non Veg]', 'Mughlai Meal For Two [Non-Veg]', 'Biryani Blast', 'Royal Feast For Four [Non-Veg]', 'Baby Corn 65', 'Chilli Baby Corn', 'Mushroom 65', 'Chilli Mushroom', 'Veg Seekh Kebab', 'Kasturi Paneer Tikka', 'Paneer 65', 'Paneer Angara', 'Chilli Paneer', 'Hara Bhara Kebab', 'Paneer Tikka', 'Paneer Malai Tikka', 'Tandoori Veg Platter', 'Tandoori Chicken', 'Mutton Shami Kebab [Signature]', 'Mutton Galouti Kebab [Signature]', 'Chicken 65', 'Chicken Seekh Kebab', 'Chicken Tikka', 'Chilli Chicken', 'Chicken Angara', 'Chicken Kasturi Kebab', 'Chicken Malai Tikka', 'Mutton Sultani Seekh Kebab', 'Non Veg Tandoori Platter', 'Aloo Tomato Gravy', 'Aloo Capsicum Dry', 'Aloo Jeera Dry', 'Dal Fry', 'Dal Tadka', 'Rajma', 'Chole', 'Dal Makhani [Signature]', 'Lipta Mushroom Masala', 'Veg Kolhapuri', 'Chole Curry', 'Paneer Bhurji', 'Miloni Tarkari [Signature]', 'Mixed Veg', 'Palak Paneer', 'Diwani Handi', 'Mattar Paneer', 'Paneer Do Pyaza', 'Butter Paneer', 'Kadai Paneer [Signature]', 'Paneer Tikka Masala [Signature]', 'Methi Malai Paneer', 'Paneer Lababdar [Signature]', 'Murg Musallam', 'Egg Bhurji', 'Egg Curry', 'Chicken Nihari [Signature]', 'Chicken Curry', 'Chicken Do Pyaza', 'Chicken Methi Khas', 'Hyderabadi Chicken', 'Chicken Hara Pyaza', 'Chicken Kali Mirch', 'Chicken Kohlapuri', 'Kadai Chicken', 'Chicken Lababdar', 'Chicken Lajawab [Signature]', 'Chicken Tikka Masala', 'Chicken Boti Kebab Masala', 'Butter Chicken', 'Mughlai Chicken Masala [Signature]', 'Mutton Nihari [Signature]', 'Mutton Do Pyaza', 'Mutton Korma', 'Mutton Rogan Josh', 'Mughlai Mutton Masala', 'Mutton Boti Kebab Masala [Signature]', 'Murg Musallam', 'Steamed Rice', 'Jeera Rice', 'Ghee Rice', 'Khushka', 'Pulao', 'Veg Biryani', 'Mughlai Chicken Dum Biryani [Signature]', 'Chicken Tikka Biryani', 'Mughlai Mutton Dum Biryani [Signature]', 'Tandoori Roti', 'Lachha Paratha', 'Naan', 'Amritsari Kulcha', 'Garlic Naan', 'Missi Roti', 'Mughlai Paratha', 'Poori', 'Mughlai Bread Basket', 'Papad', 'Curd', 'Boondi Raita', 'Mixed Raita', 'Masala Papad', 'Pineapple Raita', 'Paneer Roll', 'Hawker Style Boiled Egg', 'Masala Omelette', 'Chicken Roll', 'Chicken Boti Roll', 'Shami Roll', 'The Galouti Roll [Signature]', 'Mutton Boti Roll', 'Gulab Jamun [2 Pieces]', 'Ice Cream Scoop [single]', 'Rice Kheer', 'Awadhi Kheer [Signature]', 'Gajar Ka Halwa', 'Lachhedar Rabri', 'Shahi Tukda [Signature]', 'Thums Up [750 Ml]', 'Mineral Water [1 Litre]', 'Buttermilk', 'Lime Water', 'Thums Up (600 Ml)', 'Jal Jeera', 'Lassi', 'Lime Water Salt', 'Lime Water Sweet', 'Chocolate Lassi', 'Strawberry Lassi', 'Alphonso Mango Lassi', 'Thandai', 'Mango Lassi']    0.000216\n",
       "['Chicken Cheese Burger', 'Chicken Billys BIg Burger', 'French Fries', 'Alfredo Veg Pasta', 'Brownie Waffles', 'Veg Burger', 'Veg Cheese Burger', 'Veg Caramelized onion Burger', 'Mushroom Classic Burger', 'Veg English Cheddar Cheese Burger', 'Veg Chipotle Corn Burger', 'Veg Billys BIg Burger', 'Chicken Burger', 'Chicken Cheese Burger', 'Chicken Caramelized Onion Burger', 'Chicken Mushroom Burger', 'Chicken English Cheddar Cheese Burger', 'Chicken Chipotle Corn Burger', 'Chicken Billys BIg Burger', 'Chicken Nuggets Burger', 'Veg Grilled Sandwich', 'Paneer Burji Sandwich', 'Toasted Paneer Sandwich', 'Grilled Mushroom Sandwich', 'Corn and Cheese Sandwich', 'Egg Sandwich', 'Egg Chutney Sandwich', 'Chicken Mayo Sandwich', 'Chicken Cheese Sandwich', 'Hotdog Sandwich', 'Tuna Sandwich', 'Tangy Tomato Pasta', 'Spicy Penne Pasta', 'Alfredo Veg Pasta', 'Smoked Chicken Pasta', 'Alfredo Chicken Pasta', 'French Fries', 'Veg', 'Chicken', 'Fish Finger', 'Vegetable Omelette', 'Masala Omelette', 'Spanish Omelette', 'Cheese Omelette', 'Paneer Omelette', 'Ultimate Vegan Shakes', 'Bittersweet Symphony Shakes', 'The White Paradise Shakes', 'Deep Dark Abyss Shakes', 'Irene Adlers Mystery Shakes', 'Red Weather Parody Shakes', 'Mind palace Shakes', 'Tower of Baskerville Shakes', 'Nights Demon Shakes', 'Black and White Romance Shakes', 'Day Dream Shakes', 'Sherlocks Addiction Shakes', 'Mrs Hudsons Secret Shakes', 'Classic Waffles', 'Caramel Waffles', 'Choco Treat Waffles', 'Brownie Waffles', 'Nutella Crunch Waffles', 'Snowflakes Waffles', 'Rocky Road Waffles', 'Lights Out Waffles']                                                                                                                                                                                                                                                                                                                                                                                                                                                                                                                                                                                                                                                                                                                                                                                                                                                                                                                                                                                                                                                                                                                                                                                                                                                                                                                                                                                                                                                                                                                                                                                                                                                                                                                                                                               0.000216\n",
       "['Roasted Bacon Sandwich', 'Veggie Breakfast', 'English Breakfast', 'Pork Lovers Breakfast', 'Typical English Breakfast', 'Veggie Breakfast', 'Simple Breakfast', 'English Breakfast', 'Pork Lovers Breakfast', 'Typical English Breakfast', 'Sunshine Breakfast', 'London Bridges Falling Down', 'Dreams Full English Breakfast', 'Indianaise style Omelette', 'Vegan Favourite Omelette', 'Potatoe Omelette', 'Exotic Creamy Scrambled Eggs', 'Cheesy Mushroom Omelette', 'Herb Chicken and Cheese Omelette', 'Double Delight Sausage Omelette', 'Bacon and Cheese Omelette', 'Ultimate Bacon and Ham Omelette', 'Classic French Toast', 'Stuffed Blueberry French Toast', 'Snow White Caramel French Toast', 'Dreams French Toast Platters', 'Classic Pancake [3 Pieces]', 'Triple Meltinly Pancake [3 Pieces]', 'Chocolate Hungers Pancake [3 Pieces]', 'Caramel Banana Nutty Pancake [3 Pieces]', 'Dreams House Pancake [3 Pieces]', 'Bacon Pancake [3 Pieces]', 'Traditional Waffle', 'Nutella and Banana Waffle [4 Pieces]', 'Blueberry Fillet Waffle [4 Pieces]', 'Meaty Delight Waffle [4 Pieces]', 'Chicken Burger', 'Genius Chicken Burger', 'Grilled Chicken Burger', 'Chicken and Bacon Burger', 'Ham Burger', 'Ham BBQ Burger', 'Dreams Bacon Burger', 'Meaty War Burger', 'Grilled Cheese Sandwich', 'Spinach Corn and Cheese Sandwich', 'Roasted Veggie Sandwich', 'Dreams Veggie Sandwich', 'Herb Chicken and Cheese Sandwich', 'Chicken Sausage and Cheese Sandwich', 'Roasted Bacon Sandwich', 'Cuban Sandwich', 'Veg Arrabiata Pasta', 'Veg Mac and Cheese Pasta', 'Penne and Cheese Veggie', 'Chicken Arrabiata Pasta', 'Chicken Mac and Cheese Pasta', 'Penne and Cheese Bacon', 'Penne Cheese Pepperoni', 'Super Burger Combo', 'Assorted Veggie Rice Bowl', 'Herb Chicken Rice Bowl', 'French Fries', 'Cheesy Fries', 'Potato Wedges', 'Chessy Hash Brown', 'Mint Cheese Balls', 'Chicken Nuggets', 'Bacon Cheesy Fries', 'BBQ Sausages', 'Pork Sausage Fry [4 Pieces]', 'Bacon Fry [4 Pieces]', 'Chicken Sausage Fry [4 Pieces]', 'Classic Lemon Iced Tea', 'Peach Iced Tea', 'Blended Cold Coffee', 'Chocolate Cold Coffee', 'Butterscotch Cold Coffee', 'Coke', 'Hot Chocolate', 'Lemon Mint Mojito', 'Raspberry Mojito', 'Lemon Granita', 'Green Apple Granita', 'Strawberry Lemon Granita', 'Expresso Granita', 'Strawberry Oats Smoothie', 'Chocolate Banana Smoothie', \"Dried Berry's Smoothie\", 'Oreo Nutty Fantasy Smoothie']                                                                                                                                                                                                                                                                                                                                                                                                                                                                                                                                                                                                                                                                                                                                                                                                                                                                                                                                                               0.000192\n",
       "                                                                                                                                                                                                                                                                                                                                                                                                                                                                                                                                                                                                                                                                                                                                                                                                                                                                                                                                                                                                                                                                                                                                                                                                                                                                                                                                                                                                                                                                                                                                                                                                                                                                                                                                                                                                                                                                                                                                                                                                                                                                                                                                                                                                                                                                                                                                                                                                                                                                                                                                                                                                                                                                                                                                                                                                                                                                                                                                                                                                                                                                                                                                                                                                                                                                                                                                                                                                                               ...   \n",
       "['Aloo Manchurian', 'Gobi Manchurian', 'Mushroom Chilly', 'Veg Fried Rice', 'Gobi Fried Rice', 'Schezwan Fried Rice', 'Veg Noodles', 'Aloo Manchurian', 'Aloo Pepper Dry', 'Gobi Manchurian', 'Gobi Chilli', 'Gobi Pepper Dry', 'Schezwan Gobi Manchurian', 'Babycorn Manchurian', 'Babycorn Chilly', 'Babycorn Pepper Dry', 'Schezwan Babycorn Manchurian', 'Paneer Manchurian', 'Paneer Chilly', 'Paneer Pepper Dry', 'Schezwan Paneer Manchurian', 'Tawa Paneer', 'Kebab Paneer', 'Mushroom Manchurian', 'Mushroom Chilly', 'Mushroom Pepper Dry', 'Schezwan Mushroom Manchurian', 'Kebab Mushroom', 'Mushroom Lollipop', 'Jeera Rice', 'Schezwan Jeera Rice', 'Shanghai Rice', 'Veg Fried Rice', 'Gobi Fried Rice', 'Paneer Fried Rice', 'Sweet Corn Fried Rice', 'Mushroom Fried Rice', 'Schezwan Fried Rice', 'Schezwan Paneer Fried Rice', 'Schezwan Mushroom Fried Rice', 'Schezwan Gobi Fried Rice', 'Veg Noodles', 'Gobi Noodles', 'Paneer Noodles', 'Mushroom Noodles', 'Sweet Corn Noodles', 'Schezwan Noodles', 'Schezwan Paneer Noodles', 'Schezwan Mushroom Noodles', 'Schezwan Gobi Noodles', 'RuchiÃ\\x83Ã\\x83Ã\\x82Ã\\x82Ã\\x83Ã\\x82Ã\\x82Ã\\x92s Special Grilled Sandwich', 'Vegetables Grilled Sandwich', 'Veg Cheese Grilled Sandwich', 'American Corn Cheese Grilled Sandwich', 'Chilly Cheese Grilled Sandwich', 'Capsicum Grilled Sandwich', 'Onion Grilled Sandwich', 'Chocolate Grilled Sandwich', 'Salted Fries', 'Salt and Pepper Fries', 'Chilli Fries', 'Cheese Mayo Fries', 'Classic Aloo Twist', 'Chilly Aloo Twist', 'Tangy Aloo Twist']                                                                                                                                                                                                                                                                                                                                                                                                                                                                                                                                                                                                                                                                                                                                                                                                                                                                                                                                                                                                                                                                                                                                                                                                                                                                                                                                                                                                                                                                                                                                                                                                                                                                                                                                                                                                                                                  0.000024\n",
       "['Alphonso Mango Ice Cream', 'Chickoo Ice Cream', 'Guava Ice Cream', 'Jack Fruit Ice Cream', 'Lychee Ice Cream', 'Tender Coconut Ice Cream', 'Roasted Almond Ice Cream', 'Butterscotch Ice Cream', 'Belgian Chips Ice Cream', 'Belgian Dark Chocolate Ice Cream', 'Gulab Jamun Ice Cream', 'Alphonso Mango Ice Cream', 'Chickoo Ice Cream', 'Guava Ice Cream', 'Jack Fruit Ice Cream', 'Lychee Ice Cream', 'Strawberry Ice Cream', 'Tender Coconut Ice Cream', 'Kesar Pista Ice Cream', 'Roasted Almond Ice Cream', 'Butterscotch Ice Cream', 'Kiwi Ice Cream', 'Blueberry Ice Cream', 'Anjeer Almond Ice Cream', 'Belgian Almond Ice Cream', 'Belgian Walnut Ice Cream', 'Real Bean Vanilla Ice Cream', 'Belgian Chips Ice Cream', 'Belgian Dark Chocolate Ice Cream', 'Blackcurrant Ice Cream', 'Tutti Fruity Ice Cream', 'Apricot Ice Cream', 'Fig and Honey Ice Cream', 'Oreo White Ice Cream', 'Caramel Ice Cream', 'Gulab Jamun Ice Cream', 'Sweet Paan Ice Cream', 'Carrot Halwa Ice Cream', 'Gulkand Ice Cream', 'Sugar Free Lychee Ice Cream', 'Sugar Free Tender Coconut Ice Cream', 'Hot Chocolate Fudge Sundae', 'Brownie Fudge Sundae', 'Fruity Nutty Sundae', 'Black Lady Sundae', 'Death by Chocolate Sundae', 'Gadbad Ice Cream Sundae', 'Favourite Sundae', 'Dry Fruits Overloaded Sundae', 'Almond Sundae']                                                                                                                                                                                                                                                                                                                                                                                                                                                                                                                                                                                                                                                                                                                                                                                                                                                                                                                                                                                                                                                                                                                                                                                                                                                                                                                                                                                                                                                                                                                                                                                                                                                                                                                                                                                                                                                                                                                                                                                                                                                                                                0.000024\n",
       "['Pikelets (Pan Cake)', 'Buttered Bun', 'Potato Garlic Shots with Mayo Dip', 'Bun Omelette', 'Masala Chai with Buttered Bun', 'Pikelets (Pan Cake)', 'Buttered Bun', 'Potato Garlic Shots with Mayo Dip', 'Bun Omelette', 'Masala Chai with Buttered Bun', 'Pikelets (Pan Cake)', 'Chocolate Decadence (Pack of 2)', 'Plum Cake', 'CheeseCake (Pack Of 2)', 'Red Velvet Cake With Butter Cream Frosting (750 Gm)', 'Valentine Red Velvet Jar', 'Valentine Chocolate Jar', 'Valentines Jar Combo']                                                                                                                                                                                                                                                                                                                                                                                                                                                                                                                                                                                                                                                                                                                                                                                                                                                                                                                                                                                                                                                                                                                                                                                                                                                                                                                                                                                                                                                                                                                                                                                                                                                                                                                                                                                                                                                                                                                                                                                                                                                                                                                                                                                                                                                                                                                                                                                                                                                                                                                                                                                                                                                                                                                                                                                                                                                                                                                            0.000024\n",
       "['Fruit Salad', 'Veg Nuggets', 'Fruit Salad', 'Chocolate Fudge Ice Cream', 'Death By Chocolate Ice Cream', 'Dry Fruit Sundae', 'Gudbud Ice Cream', 'Brownie with Ice Cream', 'Regular Falooda', 'Kulfi Falooda', 'Royal Falooda', 'Fruit and Cream', 'Cookies and Cream', 'Natural Whey Protein', 'Sweet Lassi', 'Banana Lassi', 'Mango Lassi', 'Fruit Lassi', 'Kiwi Lassi', 'Mango Banana Lassi', 'Strawberry Lassi', 'Zaffron Lassi', 'Strawberry Smoothie', 'Mango Smoothie', 'Banana Smoothie', 'Kiwi Smoothie', 'Oreo Shake', 'Oreo Mintastic Shake', 'Walk like an Egyption Shake', 'Hocus Focus Shake', 'Mississipi Mud Shake', 'Cashew Almond Shake', 'Litchi and Mango Shake', 'Banana Bonkers Shake', 'Belgian Chocolate Shake', 'Kiwi Shake', 'Very Berry Strawberry Shake', 'Mango Alphonso Shake', 'Ferrero Rocher Shake', 'Mango Strawberry Shake', 'Pista Shake', 'Tropical Mix Fruit Shake', 'Automatic Shake', 'Apple Shake', 'Belgian Chips Shake', 'Choco Fruit Shake', 'Oreo Crumble Shake', 'Vanilla Desfrado Shake', 'Moto Jojo Mojito', 'Red Strawberry Mojito', 'Blue Bleed Mojito', 'Fresh Lime', 'Jaljeera', 'Ginger Lime', 'Mint Lime', 'Red Lime', 'Blue Lime', 'Purple Lime', 'Green Apple', 'Watermelon Juice', 'Pineapple Juice', 'Orange Juice', 'Cucumber Lemonade Juice', 'Hard Rock', 'Coffee on The Rock', 'Strawberry Coffee', 'Chocolate Coffee', 'White House Coffee', 'Cream Cappuccino', 'White Coffee', 'Mud Coffee']                                                                                                                                                                                                                                                                                                                                                                                                                                                                                                                                                                                                                                                                                                                                                                                                                                                                                                                                                                                                                                                                                                                                                                                                                                                                                                                                                                                                                                                                                                                                                                                                                                                                                                                                                                                                                                                                                                                                                              0.000024\n",
       "['Dal Tadka', 'Dal Makhani', 'Paneer Tikka Masala', 'Kadai Paneer', 'Paneer Makhani', 'Malai Kofta', 'Mutton Rogan Josh', 'Jeera Rice', 'Veg Biryani', 'Murgh Dum Biryani', 'Murgh Dum Biryani [Family Pack]', 'Hara Bara Kabab', 'Paneer Tikka', 'Tandoori Murgh', 'Murgh Lahori Kalmi', 'Jalebi with Rabdi', 'Roomali Roti', 'Afghani Naan', 'Stuffed Paratha', 'Paneer Tikka Masala Meal', 'Paneer Makhani Meal', 'Veg Biryani Meal', 'Executive Veg Box Meal', 'Executive Non Veg Box Meal', 'Rajma Meal', 'Peshawari Channa Meal', 'Paneer Tikka Masala Meal', 'Paneer Makhani Meal', 'Egg Curry Meal', 'Butter Chicken Meal', 'Rara Murgh Meal', 'Mutton Rogan Josh Meal', 'Rara Mutton Meal', 'Veg Biryani Meal', 'Egg Biryani Meal', 'Murgh Dum Biryani Meal', 'Murgh Tikka Biryani Meal', 'Mutton Biryani Meal', 'Prawns Biryani Meal', 'Executive Veg Box Meal', 'Executive Non Veg Box Meal', 'Tomato Shorba', 'Murgh Shorba', 'Bagicha ka Salad', 'Karela Salad', 'Kaju Fry Salad', 'Murgh Tikka Salad', 'French Fries', 'Aloo Tak-a-Tak', 'Baby Corn Harimirch Wala', 'Bhatti ka Gobi', 'Hara Bara Kabab', 'Tandoori Mushroom', 'Mushroom Harimirch Wala', 'Paneer Resunga', 'Paneer Tikka', 'Peshawari Seekh Kabab', 'Tandoori Murgh', 'Murgh Lahori Kalmi', 'Mutton Pepper Dry', 'Macchi Amritsari', 'Macchi Tak-a-Tak', 'Tawa Macchi', 'Prawns Balaika', 'Prawns Tak-a-Tak', 'Tandoori Prawns', 'Prawns Harimirch Wala', 'Dal Tadka', 'Dal Makhani', 'Paneer Tikka Masala', 'Paneer Saagwala', 'Kadai Paneer', 'Paneer Makhani', 'Mushroom Matar', 'Veg Patiala', 'Diwani Handi', 'Kadai Veg', 'Rajma', 'Sarson ka Saag', 'Aloo Gobi Masala', 'Bhindi Do Pyaza', 'Peshawari Channa', 'Malai Kofta', 'Kaju Masala', 'Egg Bhurji', 'Egg Masala', 'Rarra Mutton', 'Mutton Rogan Josh', 'Methi Macchi Masala', 'Macchi Jalfrezi', 'Prawns Masala', 'Plain Rice', 'Curd Rice', 'Jeera Rice', 'Veg Pulao', 'Peas Pulao', 'Veg Biryani', 'Egg Biryani', 'Murgh Dum Biryani', 'Murgh Tikka Biryani', 'Mutton Biryani', 'Prawns Biryani', 'Egg Biryani [Family Pack]', 'Murgh Dum Biryani [Family Pack]', 'Murgh Tikka Biryani [Family Pack]', 'Mutton Biryani [Family Pack]', 'Prawns Biryani [Family Pack]', 'Phulka', 'Roti', 'Butter Roti', 'Harimirch Paratha', 'Lalmirch Paratha', 'Garlic Naan', 'Naan', 'Butter Naan', 'Lachha Paratha', 'Kulcha', 'Butter Kulcha', 'Makkai Ki Roti', 'Roomali Roti', 'Afghani Naan', 'Peshawari Paratha', 'Stuffed Paratha', '8 Roti ka Chota Khazana', '12 Roti ka Bada Khazana', 'Egg Paratha', 'Mutton Keema Paratha', 'Roasted Papad', 'Masala Papad', 'Plain Curd', 'Mixed Veg Raita', 'Boondi Raita', 'Cucumber Raita', 'Pineapple Raita', 'Onion Raita', 'Mint Raita', 'Rabdi', 'Jalebi', 'Jalebi with Rabdi', 'Gulab Jamun', 'Rasgulla', 'Bhune Jeere ki Chaach', 'Jal Jeera', 'Meetha Punjabi Lassi', 'Namkeen Punjabi Lassi', 'Masala Punjabi Lassi', 'Patiala Punjabi Lassi', 'Meetha Nimboo Paani', 'Namkeen Nimboo Paani', 'Roohafza Sherbat', 'Mineral Water [1 litre]']                                                                                                                                                                                                                                                                                                                                                                                       0.000024\n",
       "Name: proportion, Length: 8271, dtype: float64"
      ]
     },
     "execution_count": 28,
     "metadata": {},
     "output_type": "execute_result"
    }
   ],
   "source": [
    "df['menu_item'].value_counts(normalize = True)"
   ]
  },
  {
   "cell_type": "code",
   "execution_count": 29,
   "id": "2c491980",
   "metadata": {
    "execution": {
     "iopub.execute_input": "2024-12-05T13:19:15.061737Z",
     "iopub.status.busy": "2024-12-05T13:19:15.061113Z",
     "iopub.status.idle": "2024-12-05T13:19:15.075195Z",
     "shell.execute_reply": "2024-12-05T13:19:15.074211Z"
    },
    "papermill": {
     "duration": 0.031389,
     "end_time": "2024-12-05T13:19:15.077536",
     "exception": false,
     "start_time": "2024-12-05T13:19:15.046147",
     "status": "completed"
    },
    "tags": []
   },
   "outputs": [
    {
     "name": "stdout",
     "output_type": "stream",
     "text": [
      "No. of features before dropping unwanted features: 18\n",
      "No. of features after dropping unwanted features: 9\n"
     ]
    }
   ],
   "source": [
    "print(\"No. of features before dropping unwanted features:\", df.shape[1])\n",
    "df.drop(['url', 'address', 'location', 'listed_in(city)', 'name', 'phone', 'dish_liked', 'reviews_list', 'menu_item'], axis=1, inplace=True)\n",
    "print(\"No. of features after dropping unwanted features:\", df.shape[1])"
   ]
  },
  {
   "cell_type": "code",
   "execution_count": 30,
   "id": "33436526",
   "metadata": {
    "execution": {
     "iopub.execute_input": "2024-12-05T13:19:15.107913Z",
     "iopub.status.busy": "2024-12-05T13:19:15.107520Z",
     "iopub.status.idle": "2024-12-05T13:19:15.114433Z",
     "shell.execute_reply": "2024-12-05T13:19:15.113371Z"
    },
    "papermill": {
     "duration": 0.024713,
     "end_time": "2024-12-05T13:19:15.116740",
     "exception": false,
     "start_time": "2024-12-05T13:19:15.092027",
     "status": "completed"
    },
    "tags": []
   },
   "outputs": [
    {
     "data": {
      "text/plain": [
       "Index(['online_order', 'book_table', 'rate', 'votes', 'rest_type', 'cuisines',\n",
       "       'cost', 'listed_in(type)', 'same_location'],\n",
       "      dtype='object')"
      ]
     },
     "execution_count": 30,
     "metadata": {},
     "output_type": "execute_result"
    }
   ],
   "source": [
    "df.columns"
   ]
  },
  {
   "cell_type": "code",
   "execution_count": 31,
   "id": "bbc5ce64",
   "metadata": {
    "execution": {
     "iopub.execute_input": "2024-12-05T13:19:15.146938Z",
     "iopub.status.busy": "2024-12-05T13:19:15.146553Z",
     "iopub.status.idle": "2024-12-05T13:19:15.163624Z",
     "shell.execute_reply": "2024-12-05T13:19:15.162553Z"
    },
    "papermill": {
     "duration": 0.034647,
     "end_time": "2024-12-05T13:19:15.166137",
     "exception": false,
     "start_time": "2024-12-05T13:19:15.131490",
     "status": "completed"
    },
    "tags": []
   },
   "outputs": [],
   "source": [
    "df = df.rename(columns = {'listed_in(type)' : 'service_type'})\n"
   ]
  },
  {
   "cell_type": "code",
   "execution_count": 32,
   "id": "ef905f19",
   "metadata": {
    "execution": {
     "iopub.execute_input": "2024-12-05T13:19:15.196077Z",
     "iopub.status.busy": "2024-12-05T13:19:15.195401Z",
     "iopub.status.idle": "2024-12-05T13:19:15.209578Z",
     "shell.execute_reply": "2024-12-05T13:19:15.208572Z"
    },
    "papermill": {
     "duration": 0.031686,
     "end_time": "2024-12-05T13:19:15.211582",
     "exception": false,
     "start_time": "2024-12-05T13:19:15.179896",
     "status": "completed"
    },
    "tags": []
   },
   "outputs": [
    {
     "data": {
      "text/html": [
       "<div>\n",
       "<style scoped>\n",
       "    .dataframe tbody tr th:only-of-type {\n",
       "        vertical-align: middle;\n",
       "    }\n",
       "\n",
       "    .dataframe tbody tr th {\n",
       "        vertical-align: top;\n",
       "    }\n",
       "\n",
       "    .dataframe thead th {\n",
       "        text-align: right;\n",
       "    }\n",
       "</style>\n",
       "<table border=\"1\" class=\"dataframe\">\n",
       "  <thead>\n",
       "    <tr style=\"text-align: right;\">\n",
       "      <th></th>\n",
       "      <th>online_order</th>\n",
       "      <th>book_table</th>\n",
       "      <th>rate</th>\n",
       "      <th>votes</th>\n",
       "      <th>rest_type</th>\n",
       "      <th>cuisines</th>\n",
       "      <th>cost</th>\n",
       "      <th>service_type</th>\n",
       "      <th>same_location</th>\n",
       "    </tr>\n",
       "  </thead>\n",
       "  <tbody>\n",
       "    <tr>\n",
       "      <th>0</th>\n",
       "      <td>Yes</td>\n",
       "      <td>Yes</td>\n",
       "      <td>4.1</td>\n",
       "      <td>775</td>\n",
       "      <td>Casual Dining</td>\n",
       "      <td>North Indian, Mughlai, Chinese</td>\n",
       "      <td>800.0</td>\n",
       "      <td>Buffet</td>\n",
       "      <td>0</td>\n",
       "    </tr>\n",
       "    <tr>\n",
       "      <th>1</th>\n",
       "      <td>Yes</td>\n",
       "      <td>No</td>\n",
       "      <td>4.1</td>\n",
       "      <td>787</td>\n",
       "      <td>Casual Dining</td>\n",
       "      <td>Chinese, North Indian, Thai</td>\n",
       "      <td>800.0</td>\n",
       "      <td>Buffet</td>\n",
       "      <td>0</td>\n",
       "    </tr>\n",
       "    <tr>\n",
       "      <th>2</th>\n",
       "      <td>Yes</td>\n",
       "      <td>No</td>\n",
       "      <td>3.8</td>\n",
       "      <td>918</td>\n",
       "      <td>Cafe, Casual Dining</td>\n",
       "      <td>Cafe, Mexican, Italian</td>\n",
       "      <td>800.0</td>\n",
       "      <td>Buffet</td>\n",
       "      <td>0</td>\n",
       "    </tr>\n",
       "    <tr>\n",
       "      <th>3</th>\n",
       "      <td>No</td>\n",
       "      <td>No</td>\n",
       "      <td>3.7</td>\n",
       "      <td>88</td>\n",
       "      <td>Quick Bites</td>\n",
       "      <td>South Indian, North Indian</td>\n",
       "      <td>300.0</td>\n",
       "      <td>Buffet</td>\n",
       "      <td>0</td>\n",
       "    </tr>\n",
       "    <tr>\n",
       "      <th>4</th>\n",
       "      <td>No</td>\n",
       "      <td>No</td>\n",
       "      <td>3.8</td>\n",
       "      <td>166</td>\n",
       "      <td>Casual Dining</td>\n",
       "      <td>North Indian, Rajasthani</td>\n",
       "      <td>600.0</td>\n",
       "      <td>Buffet</td>\n",
       "      <td>1</td>\n",
       "    </tr>\n",
       "  </tbody>\n",
       "</table>\n",
       "</div>"
      ],
      "text/plain": [
       "  online_order book_table  rate  votes            rest_type  \\\n",
       "0          Yes        Yes   4.1    775        Casual Dining   \n",
       "1          Yes         No   4.1    787        Casual Dining   \n",
       "2          Yes         No   3.8    918  Cafe, Casual Dining   \n",
       "3           No         No   3.7     88          Quick Bites   \n",
       "4           No         No   3.8    166        Casual Dining   \n",
       "\n",
       "                         cuisines   cost service_type  same_location  \n",
       "0  North Indian, Mughlai, Chinese  800.0       Buffet              0  \n",
       "1     Chinese, North Indian, Thai  800.0       Buffet              0  \n",
       "2          Cafe, Mexican, Italian  800.0       Buffet              0  \n",
       "3      South Indian, North Indian  300.0       Buffet              0  \n",
       "4        North Indian, Rajasthani  600.0       Buffet              1  "
      ]
     },
     "execution_count": 32,
     "metadata": {},
     "output_type": "execute_result"
    }
   ],
   "source": [
    "df.head(5)"
   ]
  },
  {
   "cell_type": "code",
   "execution_count": 33,
   "id": "309413d5",
   "metadata": {
    "execution": {
     "iopub.execute_input": "2024-12-05T13:19:15.241945Z",
     "iopub.status.busy": "2024-12-05T13:19:15.241565Z",
     "iopub.status.idle": "2024-12-05T13:19:15.250695Z",
     "shell.execute_reply": "2024-12-05T13:19:15.249479Z"
    },
    "papermill": {
     "duration": 0.027251,
     "end_time": "2024-12-05T13:19:15.253070",
     "exception": false,
     "start_time": "2024-12-05T13:19:15.225819",
     "status": "completed"
    },
    "tags": []
   },
   "outputs": [
    {
     "data": {
      "text/plain": [
       "87"
      ]
     },
     "execution_count": 33,
     "metadata": {},
     "output_type": "execute_result"
    }
   ],
   "source": [
    "df['rest_type'].nunique()\n"
   ]
  },
  {
   "cell_type": "code",
   "execution_count": 34,
   "id": "fca44da1",
   "metadata": {
    "execution": {
     "iopub.execute_input": "2024-12-05T13:19:15.284324Z",
     "iopub.status.busy": "2024-12-05T13:19:15.283900Z",
     "iopub.status.idle": "2024-12-05T13:19:15.296087Z",
     "shell.execute_reply": "2024-12-05T13:19:15.295025Z"
    },
    "papermill": {
     "duration": 0.029851,
     "end_time": "2024-12-05T13:19:15.298282",
     "exception": false,
     "start_time": "2024-12-05T13:19:15.268431",
     "status": "completed"
    },
    "tags": []
   },
   "outputs": [
    {
     "data": {
      "text/plain": [
       "rest_type\n",
       "Quick Bites                   0.335871\n",
       "Casual Dining                 0.232657\n",
       "Cafe                          0.082017\n",
       "Dessert Parlor                0.044898\n",
       "Delivery                      0.040466\n",
       "                                ...   \n",
       "Food Court, Beverage Shop     0.000048\n",
       "Dessert Parlor, Food Court    0.000048\n",
       "Dessert Parlor, Kiosk         0.000048\n",
       "Bakery, Beverage Shop         0.000024\n",
       "Quick Bites, Kiosk            0.000024\n",
       "Name: proportion, Length: 87, dtype: float64"
      ]
     },
     "execution_count": 34,
     "metadata": {},
     "output_type": "execute_result"
    }
   ],
   "source": [
    "df['rest_type'].value_counts(normalize = True)"
   ]
  },
  {
   "cell_type": "code",
   "execution_count": 35,
   "id": "03203130",
   "metadata": {
    "execution": {
     "iopub.execute_input": "2024-12-05T13:19:15.328453Z",
     "iopub.status.busy": "2024-12-05T13:19:15.328023Z",
     "iopub.status.idle": "2024-12-05T13:19:15.340122Z",
     "shell.execute_reply": "2024-12-05T13:19:15.339102Z"
    },
    "papermill": {
     "duration": 0.029647,
     "end_time": "2024-12-05T13:19:15.342162",
     "exception": false,
     "start_time": "2024-12-05T13:19:15.312515",
     "status": "completed"
    },
    "tags": []
   },
   "outputs": [
    {
     "data": {
      "text/plain": [
       "rest_type\n",
       "Quick Bites                   0.335871\n",
       "Casual Dining                 0.568528\n",
       "Cafe                          0.650544\n",
       "Dessert Parlor                0.695443\n",
       "Delivery                      0.735909\n",
       "                                ...   \n",
       "Food Court, Beverage Shop     0.999855\n",
       "Dessert Parlor, Food Court    0.999904\n",
       "Dessert Parlor, Kiosk         0.999952\n",
       "Bakery, Beverage Shop         0.999976\n",
       "Quick Bites, Kiosk            1.000000\n",
       "Name: proportion, Length: 87, dtype: float64"
      ]
     },
     "execution_count": 35,
     "metadata": {},
     "output_type": "execute_result"
    }
   ],
   "source": [
    "rest_type_cumsum_percentage = df['rest_type'].value_counts(normalize = True).cumsum()\n",
    "rest_type_cumsum_percentage"
   ]
  },
  {
   "cell_type": "code",
   "execution_count": 36,
   "id": "ffc5a88c",
   "metadata": {
    "execution": {
     "iopub.execute_input": "2024-12-05T13:19:15.372772Z",
     "iopub.status.busy": "2024-12-05T13:19:15.372426Z",
     "iopub.status.idle": "2024-12-05T13:19:15.380354Z",
     "shell.execute_reply": "2024-12-05T13:19:15.379212Z"
    },
    "papermill": {
     "duration": 0.025953,
     "end_time": "2024-12-05T13:19:15.382514",
     "exception": false,
     "start_time": "2024-12-05T13:19:15.356561",
     "status": "completed"
    },
    "tags": []
   },
   "outputs": [
    {
     "data": {
      "text/plain": [
       "Index(['Quick Bites', 'Casual Dining', 'Cafe', 'Dessert Parlor', 'Delivery',\n",
       "       'Takeaway, Delivery', 'Casual Dining, Bar'],\n",
       "      dtype='object', name='rest_type')"
      ]
     },
     "execution_count": 36,
     "metadata": {},
     "output_type": "execute_result"
    }
   ],
   "source": [
    "threshold = 0.8\n",
    "\n",
    "top_categories = rest_type_cumsum_percentage[rest_type_cumsum_percentage <= threshold].index\n",
    "top_categories"
   ]
  },
  {
   "cell_type": "code",
   "execution_count": 37,
   "id": "b68c0663",
   "metadata": {
    "execution": {
     "iopub.execute_input": "2024-12-05T13:19:15.413610Z",
     "iopub.status.busy": "2024-12-05T13:19:15.412730Z",
     "iopub.status.idle": "2024-12-05T13:19:15.428483Z",
     "shell.execute_reply": "2024-12-05T13:19:15.427354Z"
    },
    "papermill": {
     "duration": 0.033752,
     "end_time": "2024-12-05T13:19:15.430765",
     "exception": false,
     "start_time": "2024-12-05T13:19:15.397013",
     "status": "completed"
    },
    "tags": []
   },
   "outputs": [
    {
     "data": {
      "text/plain": [
       "rest_type\n",
       "Quick Bites           13944\n",
       "Casual Dining          9659\n",
       "others                 8711\n",
       "Cafe                   3405\n",
       "Dessert Parlor         1864\n",
       "Delivery               1680\n",
       "Takeaway, Delivery     1292\n",
       "Casual Dining, Bar     1110\n",
       "Name: count, dtype: int64"
      ]
     },
     "execution_count": 37,
     "metadata": {},
     "output_type": "execute_result"
    }
   ],
   "source": [
    "df['rest_type'] = df['rest_type'].where(df['rest_type'].isin(top_categories),'others')\n",
    "df['rest_type'].value_counts()"
   ]
  },
  {
   "cell_type": "code",
   "execution_count": 38,
   "id": "d357cbc1",
   "metadata": {
    "execution": {
     "iopub.execute_input": "2024-12-05T13:19:15.461934Z",
     "iopub.status.busy": "2024-12-05T13:19:15.460943Z",
     "iopub.status.idle": "2024-12-05T13:19:15.476812Z",
     "shell.execute_reply": "2024-12-05T13:19:15.475650Z"
    },
    "papermill": {
     "duration": 0.033652,
     "end_time": "2024-12-05T13:19:15.478892",
     "exception": false,
     "start_time": "2024-12-05T13:19:15.445240",
     "status": "completed"
    },
    "tags": []
   },
   "outputs": [
    {
     "name": "stdout",
     "output_type": "stream",
     "text": [
      "Unique Category :  2383\n"
     ]
    },
    {
     "data": {
      "text/plain": [
       "cuisines\n",
       "North Indian                                             2158\n",
       "North Indian, Chinese                                    1980\n",
       "South Indian                                             1234\n",
       "Cafe                                                      642\n",
       "Bakery, Desserts                                          615\n",
       "                                                         ... \n",
       "North Indian, Mughlai, Chinese, Seafood, South Indian       1\n",
       "Chinese, Thai, Seafood, Malaysian                           1\n",
       "North Indian, Chinese, Arabian, Kebab                       1\n",
       "Turkish, Fast Food, Biryani, Chinese                        1\n",
       "North Indian, Chinese, Arabian, Momos                       1\n",
       "Name: count, Length: 2383, dtype: int64"
      ]
     },
     "execution_count": 38,
     "metadata": {},
     "output_type": "execute_result"
    }
   ],
   "source": [
    "print(\"Unique Category : \",df['cuisines'].nunique())\n",
    "df['cuisines'].value_counts()"
   ]
  },
  {
   "cell_type": "code",
   "execution_count": 39,
   "id": "87956f91",
   "metadata": {
    "execution": {
     "iopub.execute_input": "2024-12-05T13:19:15.510228Z",
     "iopub.status.busy": "2024-12-05T13:19:15.509835Z",
     "iopub.status.idle": "2024-12-05T13:19:15.540625Z",
     "shell.execute_reply": "2024-12-05T13:19:15.539545Z"
    },
    "papermill": {
     "duration": 0.049222,
     "end_time": "2024-12-05T13:19:15.542910",
     "exception": false,
     "start_time": "2024-12-05T13:19:15.493688",
     "status": "completed"
    },
    "tags": []
   },
   "outputs": [
    {
     "name": "stdout",
     "output_type": "stream",
     "text": [
      "          cuisines_type                                           cuisines\n",
      "174    multi-speciality  Salad, Healthy Food, Sandwich, Juices, Burger,...\n",
      "6203   multi-speciality                              North Indian, Chinese\n",
      "13662  multi-speciality                      South Indian, Andhra, Biryani\n",
      "21778  multi-speciality                             Cafe, Sandwich, Burger\n",
      "48029   core-speciality                                             Bakery\n"
     ]
    }
   ],
   "source": [
    "df['cuisines_type'] = df['cuisines'].apply(lambda x: \n",
    "                                           'multi-speciality' if isinstance(x , str)\n",
    "                                            and len(x.split(',')) > 1 else 'core-speciality')\n",
    "print(df[['cuisines_type','cuisines']].sample(5))"
   ]
  },
  {
   "cell_type": "code",
   "execution_count": 40,
   "id": "4b41e310",
   "metadata": {
    "execution": {
     "iopub.execute_input": "2024-12-05T13:19:15.574096Z",
     "iopub.status.busy": "2024-12-05T13:19:15.573370Z",
     "iopub.status.idle": "2024-12-05T13:19:15.630191Z",
     "shell.execute_reply": "2024-12-05T13:19:15.629101Z"
    },
    "papermill": {
     "duration": 0.075028,
     "end_time": "2024-12-05T13:19:15.632521",
     "exception": false,
     "start_time": "2024-12-05T13:19:15.557493",
     "status": "completed"
    },
    "tags": []
   },
   "outputs": [
    {
     "name": "stdout",
     "output_type": "stream",
     "text": [
      "North Indian    17406\n",
      "Chinese         13005\n",
      "South Indian     6394\n",
      "Fast Food        6360\n",
      "Continental      5245\n",
      "Name: count, dtype: int64\n"
     ]
    }
   ],
   "source": [
    " cuisines_list = [cuisine.strip() for cuisines in df['cuisines'].dropna()\n",
    "                 for cuisine in str(cuisines).split(',')]\n",
    "\n",
    "top_cuisines_counts = pd.Series(cuisines_list).value_counts().head()\n",
    "print(top_cuisines_counts)"
   ]
  },
  {
   "cell_type": "code",
   "execution_count": 41,
   "id": "9fec19b5",
   "metadata": {
    "execution": {
     "iopub.execute_input": "2024-12-05T13:19:15.664856Z",
     "iopub.status.busy": "2024-12-05T13:19:15.663940Z",
     "iopub.status.idle": "2024-12-05T13:19:15.789078Z",
     "shell.execute_reply": "2024-12-05T13:19:15.787876Z"
    },
    "papermill": {
     "duration": 0.143592,
     "end_time": "2024-12-05T13:19:15.791233",
     "exception": false,
     "start_time": "2024-12-05T13:19:15.647641",
     "status": "completed"
    },
    "tags": []
   },
   "outputs": [
    {
     "name": "stdout",
     "output_type": "stream",
     "text": [
      "                                        cuisines offers_popular_cuisines\n",
      "45474  North Indian, Chinese, Biryani, Fast Food                     Yes\n",
      "50876             North Indian, Chinese, Arabian                     Yes\n",
      "10781                          Fast Food, Juices                     Yes\n",
      "20153        North Indian, South Indian, Chinese                     Yes\n",
      "19776      North Indian, Momos, Rolls, Fast Food                     Yes\n"
     ]
    }
   ],
   "source": [
    "df['offers_popular_cuisines'] = df['cuisines'].apply(\n",
    "    lambda x: 'Yes' if pd.notna(x) and any(cuisine in str(x) for cuisine in top_cuisines_counts.index) else 'No'\n",
    ")\n",
    "\n",
    "\n",
    "print(df[['cuisines', 'offers_popular_cuisines']].sample(5))\n"
   ]
  },
  {
   "cell_type": "code",
   "execution_count": 42,
   "id": "04e86846",
   "metadata": {
    "execution": {
     "iopub.execute_input": "2024-12-05T13:19:15.822707Z",
     "iopub.status.busy": "2024-12-05T13:19:15.821953Z",
     "iopub.status.idle": "2024-12-05T13:19:15.832922Z",
     "shell.execute_reply": "2024-12-05T13:19:15.831893Z"
    },
    "papermill": {
     "duration": 0.02923,
     "end_time": "2024-12-05T13:19:15.835138",
     "exception": false,
     "start_time": "2024-12-05T13:19:15.805908",
     "status": "completed"
    },
    "tags": []
   },
   "outputs": [
    {
     "data": {
      "text/plain": [
       "offers_popular_cuisines\n",
       "Yes    29690\n",
       "No     11975\n",
       "Name: count, dtype: int64"
      ]
     },
     "execution_count": 42,
     "metadata": {},
     "output_type": "execute_result"
    }
   ],
   "source": [
    "df['offers_popular_cuisines'].value_counts()"
   ]
  },
  {
   "cell_type": "code",
   "execution_count": 43,
   "id": "1cd59f98",
   "metadata": {
    "execution": {
     "iopub.execute_input": "2024-12-05T13:19:15.866972Z",
     "iopub.status.busy": "2024-12-05T13:19:15.866601Z",
     "iopub.status.idle": "2024-12-05T13:19:15.875244Z",
     "shell.execute_reply": "2024-12-05T13:19:15.874138Z"
    },
    "papermill": {
     "duration": 0.027299,
     "end_time": "2024-12-05T13:19:15.877604",
     "exception": false,
     "start_time": "2024-12-05T13:19:15.850305",
     "status": "completed"
    },
    "tags": []
   },
   "outputs": [],
   "source": [
    " df.drop('cuisines',axis = 1, inplace = True)"
   ]
  },
  {
   "cell_type": "code",
   "execution_count": 44,
   "id": "b34c2582",
   "metadata": {
    "execution": {
     "iopub.execute_input": "2024-12-05T13:19:15.909709Z",
     "iopub.status.busy": "2024-12-05T13:19:15.909345Z",
     "iopub.status.idle": "2024-12-05T13:19:17.433478Z",
     "shell.execute_reply": "2024-12-05T13:19:17.432598Z"
    },
    "papermill": {
     "duration": 1.542922,
     "end_time": "2024-12-05T13:19:17.435827",
     "exception": false,
     "start_time": "2024-12-05T13:19:15.892905",
     "status": "completed"
    },
    "tags": []
   },
   "outputs": [],
   "source": [
    "from sklearn.model_selection import train_test_split"
   ]
  },
  {
   "cell_type": "code",
   "execution_count": 45,
   "id": "4609de7b",
   "metadata": {
    "execution": {
     "iopub.execute_input": "2024-12-05T13:19:17.467825Z",
     "iopub.status.busy": "2024-12-05T13:19:17.467243Z",
     "iopub.status.idle": "2024-12-05T13:19:17.491164Z",
     "shell.execute_reply": "2024-12-05T13:19:17.490261Z"
    },
    "papermill": {
     "duration": 0.042407,
     "end_time": "2024-12-05T13:19:17.493494",
     "exception": false,
     "start_time": "2024-12-05T13:19:17.451087",
     "status": "completed"
    },
    "tags": []
   },
   "outputs": [],
   "source": [
    "x = df.drop(\"rate\", axis=1)\n",
    "y = df['rate']\n",
    "\n",
    "x_train , x_test , y_train , y_test = train_test_split(x , y , test_size = 0.2 , random_state = 123 )"
   ]
  },
  {
   "cell_type": "code",
   "execution_count": 46,
   "id": "66edc0e8",
   "metadata": {
    "execution": {
     "iopub.execute_input": "2024-12-05T13:19:17.524964Z",
     "iopub.status.busy": "2024-12-05T13:19:17.524549Z",
     "iopub.status.idle": "2024-12-05T13:19:17.531285Z",
     "shell.execute_reply": "2024-12-05T13:19:17.530194Z"
    },
    "papermill": {
     "duration": 0.02485,
     "end_time": "2024-12-05T13:19:17.533255",
     "exception": false,
     "start_time": "2024-12-05T13:19:17.508405",
     "status": "completed"
    },
    "tags": []
   },
   "outputs": [
    {
     "data": {
      "text/plain": [
       "((33332, 9), (8333, 9))"
      ]
     },
     "execution_count": 46,
     "metadata": {},
     "output_type": "execute_result"
    }
   ],
   "source": [
    "x_train.shape , x_test.shape"
   ]
  },
  {
   "cell_type": "code",
   "execution_count": 47,
   "id": "cada07c8",
   "metadata": {
    "execution": {
     "iopub.execute_input": "2024-12-05T13:19:17.564976Z",
     "iopub.status.busy": "2024-12-05T13:19:17.564590Z",
     "iopub.status.idle": "2024-12-05T13:19:17.589445Z",
     "shell.execute_reply": "2024-12-05T13:19:17.588198Z"
    },
    "papermill": {
     "duration": 0.043561,
     "end_time": "2024-12-05T13:19:17.591870",
     "exception": false,
     "start_time": "2024-12-05T13:19:17.548309",
     "status": "completed"
    },
    "tags": []
   },
   "outputs": [
    {
     "name": "stdout",
     "output_type": "stream",
     "text": [
      "Number of Duplicates 11632\n"
     ]
    }
   ],
   "source": [
    "duplicates = x_train.duplicated()\n",
    "\n",
    "print(\"Number of Duplicates\", duplicates.sum())"
   ]
  }
 ],
 "metadata": {
  "kaggle": {
   "accelerator": "none",
   "dataSources": [
    {
     "datasetId": 2451373,
     "sourceId": 4151358,
     "sourceType": "datasetVersion"
    }
   ],
   "dockerImageVersionId": 30804,
   "isGpuEnabled": false,
   "isInternetEnabled": true,
   "language": "python",
   "sourceType": "notebook"
  },
  "kernelspec": {
   "display_name": "Python 3",
   "language": "python",
   "name": "python3"
  },
  "language_info": {
   "codemirror_mode": {
    "name": "ipython",
    "version": 3
   },
   "file_extension": ".py",
   "mimetype": "text/x-python",
   "name": "python",
   "nbconvert_exporter": "python",
   "pygments_lexer": "ipython3",
   "version": "3.10.14"
  },
  "papermill": {
   "default_parameters": {},
   "duration": 24.410043,
   "end_time": "2024-12-05T13:19:18.327766",
   "environment_variables": {},
   "exception": null,
   "input_path": "__notebook__.ipynb",
   "output_path": "__notebook__.ipynb",
   "parameters": {},
   "start_time": "2024-12-05T13:18:53.917723",
   "version": "2.6.0"
  }
 },
 "nbformat": 4,
 "nbformat_minor": 5
}
